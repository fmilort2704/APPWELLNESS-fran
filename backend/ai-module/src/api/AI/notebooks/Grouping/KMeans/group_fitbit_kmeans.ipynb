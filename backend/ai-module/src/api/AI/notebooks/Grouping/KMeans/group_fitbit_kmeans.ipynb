{
 "cells": [
  {
   "cell_type": "code",
   "execution_count": 186,
   "metadata": {},
   "outputs": [],
   "source": [
    "import pandas as pd\n",
    "import matplotlib.pyplot as plt\n",
    "from sklearn.model_selection import train_test_split\n",
    "from sklearn.cluster import KMeans\n",
    "import numpy as np\n",
    "from sklearn.preprocessing import FunctionTransformer\n",
    "from sklearn.compose import ColumnTransformer\n",
    "import seaborn as sns\n",
    "from scipy import stats\n",
    "from sklearn.preprocessing import StandardScaler\n",
    "from sklearn.decomposition import PCA"
   ]
  },
  {
   "cell_type": "markdown",
   "metadata": {},
   "source": [
    "# Loading datasets"
   ]
  },
  {
   "cell_type": "code",
   "execution_count": 187,
   "metadata": {},
   "outputs": [
    {
     "data": {
      "text/html": [
       "<div>\n",
       "<style scoped>\n",
       "    .dataframe tbody tr th:only-of-type {\n",
       "        vertical-align: middle;\n",
       "    }\n",
       "\n",
       "    .dataframe tbody tr th {\n",
       "        vertical-align: top;\n",
       "    }\n",
       "\n",
       "    .dataframe thead th {\n",
       "        text-align: right;\n",
       "    }\n",
       "</style>\n",
       "<table border=\"1\" class=\"dataframe\">\n",
       "  <thead>\n",
       "    <tr style=\"text-align: right;\">\n",
       "      <th></th>\n",
       "      <th>Id</th>\n",
       "      <th>ActivityDate</th>\n",
       "      <th>TotalSteps</th>\n",
       "      <th>TotalDistance</th>\n",
       "      <th>TrackerDistance</th>\n",
       "      <th>LoggedActivitiesDistance</th>\n",
       "      <th>VeryActiveDistance</th>\n",
       "      <th>ModeratelyActiveDistance</th>\n",
       "      <th>LightActiveDistance</th>\n",
       "      <th>SedentaryActiveDistance</th>\n",
       "      <th>VeryActiveMinutes</th>\n",
       "      <th>FairlyActiveMinutes</th>\n",
       "      <th>LightlyActiveMinutes</th>\n",
       "      <th>SedentaryMinutes</th>\n",
       "      <th>Calories</th>\n",
       "    </tr>\n",
       "  </thead>\n",
       "  <tbody>\n",
       "    <tr>\n",
       "      <th>0</th>\n",
       "      <td>1503960366</td>\n",
       "      <td>2016-03-25</td>\n",
       "      <td>11004</td>\n",
       "      <td>7.11</td>\n",
       "      <td>7.11</td>\n",
       "      <td>0.0</td>\n",
       "      <td>2.57</td>\n",
       "      <td>0.46</td>\n",
       "      <td>4.07</td>\n",
       "      <td>0.0</td>\n",
       "      <td>33</td>\n",
       "      <td>12</td>\n",
       "      <td>205</td>\n",
       "      <td>804</td>\n",
       "      <td>1819</td>\n",
       "    </tr>\n",
       "    <tr>\n",
       "      <th>1</th>\n",
       "      <td>1503960366</td>\n",
       "      <td>2016-03-26</td>\n",
       "      <td>17609</td>\n",
       "      <td>11.55</td>\n",
       "      <td>11.55</td>\n",
       "      <td>0.0</td>\n",
       "      <td>6.92</td>\n",
       "      <td>0.73</td>\n",
       "      <td>3.91</td>\n",
       "      <td>0.0</td>\n",
       "      <td>89</td>\n",
       "      <td>17</td>\n",
       "      <td>274</td>\n",
       "      <td>588</td>\n",
       "      <td>2154</td>\n",
       "    </tr>\n",
       "    <tr>\n",
       "      <th>2</th>\n",
       "      <td>1503960366</td>\n",
       "      <td>2016-03-27</td>\n",
       "      <td>12736</td>\n",
       "      <td>8.53</td>\n",
       "      <td>8.53</td>\n",
       "      <td>0.0</td>\n",
       "      <td>4.66</td>\n",
       "      <td>0.16</td>\n",
       "      <td>3.71</td>\n",
       "      <td>0.0</td>\n",
       "      <td>56</td>\n",
       "      <td>5</td>\n",
       "      <td>268</td>\n",
       "      <td>605</td>\n",
       "      <td>1944</td>\n",
       "    </tr>\n",
       "    <tr>\n",
       "      <th>3</th>\n",
       "      <td>1503960366</td>\n",
       "      <td>2016-03-28</td>\n",
       "      <td>13231</td>\n",
       "      <td>8.93</td>\n",
       "      <td>8.93</td>\n",
       "      <td>0.0</td>\n",
       "      <td>3.19</td>\n",
       "      <td>0.79</td>\n",
       "      <td>4.95</td>\n",
       "      <td>0.0</td>\n",
       "      <td>39</td>\n",
       "      <td>20</td>\n",
       "      <td>224</td>\n",
       "      <td>1080</td>\n",
       "      <td>1932</td>\n",
       "    </tr>\n",
       "    <tr>\n",
       "      <th>4</th>\n",
       "      <td>1503960366</td>\n",
       "      <td>2016-03-29</td>\n",
       "      <td>12041</td>\n",
       "      <td>7.85</td>\n",
       "      <td>7.85</td>\n",
       "      <td>0.0</td>\n",
       "      <td>2.16</td>\n",
       "      <td>1.09</td>\n",
       "      <td>4.61</td>\n",
       "      <td>0.0</td>\n",
       "      <td>28</td>\n",
       "      <td>28</td>\n",
       "      <td>243</td>\n",
       "      <td>763</td>\n",
       "      <td>1886</td>\n",
       "    </tr>\n",
       "  </tbody>\n",
       "</table>\n",
       "</div>"
      ],
      "text/plain": [
       "           Id ActivityDate  TotalSteps  TotalDistance  TrackerDistance  \\\n",
       "0  1503960366   2016-03-25       11004           7.11             7.11   \n",
       "1  1503960366   2016-03-26       17609          11.55            11.55   \n",
       "2  1503960366   2016-03-27       12736           8.53             8.53   \n",
       "3  1503960366   2016-03-28       13231           8.93             8.93   \n",
       "4  1503960366   2016-03-29       12041           7.85             7.85   \n",
       "\n",
       "   LoggedActivitiesDistance  VeryActiveDistance  ModeratelyActiveDistance  \\\n",
       "0                       0.0                2.57                      0.46   \n",
       "1                       0.0                6.92                      0.73   \n",
       "2                       0.0                4.66                      0.16   \n",
       "3                       0.0                3.19                      0.79   \n",
       "4                       0.0                2.16                      1.09   \n",
       "\n",
       "   LightActiveDistance  SedentaryActiveDistance  VeryActiveMinutes  \\\n",
       "0                 4.07                      0.0                 33   \n",
       "1                 3.91                      0.0                 89   \n",
       "2                 3.71                      0.0                 56   \n",
       "3                 4.95                      0.0                 39   \n",
       "4                 4.61                      0.0                 28   \n",
       "\n",
       "   FairlyActiveMinutes  LightlyActiveMinutes  SedentaryMinutes  Calories  \n",
       "0                   12                   205               804      1819  \n",
       "1                   17                   274               588      2154  \n",
       "2                    5                   268               605      1944  \n",
       "3                   20                   224              1080      1932  \n",
       "4                   28                   243               763      1886  "
      ]
     },
     "execution_count": 187,
     "metadata": {},
     "output_type": "execute_result"
    }
   ],
   "source": [
    "fitbit_daily_activity_df = pd.read_csv('../../../../data/public_data/cleaned/fitbit/cleaned_daily_activity.csv')\n",
    "fitbit_daily_activity_df.head()"
   ]
  },
  {
   "cell_type": "code",
   "execution_count": 188,
   "metadata": {},
   "outputs": [],
   "source": [
    "# (Leaving out sleep data for now - could perhaps use minutes sleep data - combine it into day (so we have 2 months worth), but need to think how to combine so you get full night sleep not full minutes asleep a day which is kinda misleading??? Maybe)\n",
    "# fitbit_sleep_df = pd.read_csv('../../data/public_data/cleaned/fitbit/cleaned_minute_sleep.csv')\n",
    "# fitbit_sleep_df.head()"
   ]
  },
  {
   "cell_type": "markdown",
   "metadata": {},
   "source": [
    "# Convert ActivityDate column to DateTime data type"
   ]
  },
  {
   "cell_type": "code",
   "execution_count": 189,
   "metadata": {},
   "outputs": [
    {
     "data": {
      "text/plain": [
       "dtype('O')"
      ]
     },
     "execution_count": 189,
     "metadata": {},
     "output_type": "execute_result"
    }
   ],
   "source": [
    "fitbit_daily_activity_df['ActivityDate'].dtype"
   ]
  },
  {
   "cell_type": "code",
   "execution_count": 190,
   "metadata": {},
   "outputs": [
    {
     "data": {
      "text/plain": [
       "dtype('<M8[ns]')"
      ]
     },
     "execution_count": 190,
     "metadata": {},
     "output_type": "execute_result"
    }
   ],
   "source": [
    "fitbit_daily_activity_df['ActivityDate'] = pd.to_datetime(fitbit_daily_activity_df['ActivityDate'])\n",
    "fitbit_daily_activity_df['ActivityDate'].dtype"
   ]
  },
  {
   "cell_type": "code",
   "execution_count": 191,
   "metadata": {},
   "outputs": [
    {
     "data": {
      "text/html": [
       "<div>\n",
       "<style scoped>\n",
       "    .dataframe tbody tr th:only-of-type {\n",
       "        vertical-align: middle;\n",
       "    }\n",
       "\n",
       "    .dataframe tbody tr th {\n",
       "        vertical-align: top;\n",
       "    }\n",
       "\n",
       "    .dataframe thead th {\n",
       "        text-align: right;\n",
       "    }\n",
       "</style>\n",
       "<table border=\"1\" class=\"dataframe\">\n",
       "  <thead>\n",
       "    <tr style=\"text-align: right;\">\n",
       "      <th></th>\n",
       "      <th>Id</th>\n",
       "      <th>ActivityDate</th>\n",
       "      <th>TotalSteps</th>\n",
       "      <th>TotalDistance</th>\n",
       "      <th>TrackerDistance</th>\n",
       "      <th>LoggedActivitiesDistance</th>\n",
       "      <th>VeryActiveDistance</th>\n",
       "      <th>ModeratelyActiveDistance</th>\n",
       "      <th>LightActiveDistance</th>\n",
       "      <th>SedentaryActiveDistance</th>\n",
       "      <th>VeryActiveMinutes</th>\n",
       "      <th>FairlyActiveMinutes</th>\n",
       "      <th>LightlyActiveMinutes</th>\n",
       "      <th>SedentaryMinutes</th>\n",
       "      <th>Calories</th>\n",
       "    </tr>\n",
       "  </thead>\n",
       "  <tbody>\n",
       "    <tr>\n",
       "      <th>0</th>\n",
       "      <td>1503960366</td>\n",
       "      <td>2016-03-25</td>\n",
       "      <td>11004</td>\n",
       "      <td>7.11</td>\n",
       "      <td>7.11</td>\n",
       "      <td>0.0</td>\n",
       "      <td>2.57</td>\n",
       "      <td>0.46</td>\n",
       "      <td>4.07</td>\n",
       "      <td>0.0</td>\n",
       "      <td>33</td>\n",
       "      <td>12</td>\n",
       "      <td>205</td>\n",
       "      <td>804</td>\n",
       "      <td>1819</td>\n",
       "    </tr>\n",
       "    <tr>\n",
       "      <th>1</th>\n",
       "      <td>1503960366</td>\n",
       "      <td>2016-03-26</td>\n",
       "      <td>17609</td>\n",
       "      <td>11.55</td>\n",
       "      <td>11.55</td>\n",
       "      <td>0.0</td>\n",
       "      <td>6.92</td>\n",
       "      <td>0.73</td>\n",
       "      <td>3.91</td>\n",
       "      <td>0.0</td>\n",
       "      <td>89</td>\n",
       "      <td>17</td>\n",
       "      <td>274</td>\n",
       "      <td>588</td>\n",
       "      <td>2154</td>\n",
       "    </tr>\n",
       "    <tr>\n",
       "      <th>2</th>\n",
       "      <td>1503960366</td>\n",
       "      <td>2016-03-27</td>\n",
       "      <td>12736</td>\n",
       "      <td>8.53</td>\n",
       "      <td>8.53</td>\n",
       "      <td>0.0</td>\n",
       "      <td>4.66</td>\n",
       "      <td>0.16</td>\n",
       "      <td>3.71</td>\n",
       "      <td>0.0</td>\n",
       "      <td>56</td>\n",
       "      <td>5</td>\n",
       "      <td>268</td>\n",
       "      <td>605</td>\n",
       "      <td>1944</td>\n",
       "    </tr>\n",
       "    <tr>\n",
       "      <th>3</th>\n",
       "      <td>1503960366</td>\n",
       "      <td>2016-03-28</td>\n",
       "      <td>13231</td>\n",
       "      <td>8.93</td>\n",
       "      <td>8.93</td>\n",
       "      <td>0.0</td>\n",
       "      <td>3.19</td>\n",
       "      <td>0.79</td>\n",
       "      <td>4.95</td>\n",
       "      <td>0.0</td>\n",
       "      <td>39</td>\n",
       "      <td>20</td>\n",
       "      <td>224</td>\n",
       "      <td>1080</td>\n",
       "      <td>1932</td>\n",
       "    </tr>\n",
       "    <tr>\n",
       "      <th>4</th>\n",
       "      <td>1503960366</td>\n",
       "      <td>2016-03-29</td>\n",
       "      <td>12041</td>\n",
       "      <td>7.85</td>\n",
       "      <td>7.85</td>\n",
       "      <td>0.0</td>\n",
       "      <td>2.16</td>\n",
       "      <td>1.09</td>\n",
       "      <td>4.61</td>\n",
       "      <td>0.0</td>\n",
       "      <td>28</td>\n",
       "      <td>28</td>\n",
       "      <td>243</td>\n",
       "      <td>763</td>\n",
       "      <td>1886</td>\n",
       "    </tr>\n",
       "  </tbody>\n",
       "</table>\n",
       "</div>"
      ],
      "text/plain": [
       "           Id ActivityDate  TotalSteps  TotalDistance  TrackerDistance  \\\n",
       "0  1503960366   2016-03-25       11004           7.11             7.11   \n",
       "1  1503960366   2016-03-26       17609          11.55            11.55   \n",
       "2  1503960366   2016-03-27       12736           8.53             8.53   \n",
       "3  1503960366   2016-03-28       13231           8.93             8.93   \n",
       "4  1503960366   2016-03-29       12041           7.85             7.85   \n",
       "\n",
       "   LoggedActivitiesDistance  VeryActiveDistance  ModeratelyActiveDistance  \\\n",
       "0                       0.0                2.57                      0.46   \n",
       "1                       0.0                6.92                      0.73   \n",
       "2                       0.0                4.66                      0.16   \n",
       "3                       0.0                3.19                      0.79   \n",
       "4                       0.0                2.16                      1.09   \n",
       "\n",
       "   LightActiveDistance  SedentaryActiveDistance  VeryActiveMinutes  \\\n",
       "0                 4.07                      0.0                 33   \n",
       "1                 3.91                      0.0                 89   \n",
       "2                 3.71                      0.0                 56   \n",
       "3                 4.95                      0.0                 39   \n",
       "4                 4.61                      0.0                 28   \n",
       "\n",
       "   FairlyActiveMinutes  LightlyActiveMinutes  SedentaryMinutes  Calories  \n",
       "0                   12                   205               804      1819  \n",
       "1                   17                   274               588      2154  \n",
       "2                    5                   268               605      1944  \n",
       "3                   20                   224              1080      1932  \n",
       "4                   28                   243               763      1886  "
      ]
     },
     "execution_count": 191,
     "metadata": {},
     "output_type": "execute_result"
    }
   ],
   "source": [
    "fitbit_daily_activity_df.head()"
   ]
  },
  {
   "cell_type": "code",
   "execution_count": 192,
   "metadata": {},
   "outputs": [
    {
     "data": {
      "text/plain": [
       "1234"
      ]
     },
     "execution_count": 192,
     "metadata": {},
     "output_type": "execute_result"
    }
   ],
   "source": [
    "fitbit_daily_activity_df = fitbit_daily_activity_df.drop(columns=['Id', 'ActivityDate']) # ignoring the Id and Date for now...\n",
    "len(fitbit_daily_activity_df)"
   ]
  },
  {
   "cell_type": "code",
   "execution_count": 193,
   "metadata": {},
   "outputs": [
    {
     "data": {
      "text/html": [
       "<div>\n",
       "<style scoped>\n",
       "    .dataframe tbody tr th:only-of-type {\n",
       "        vertical-align: middle;\n",
       "    }\n",
       "\n",
       "    .dataframe tbody tr th {\n",
       "        vertical-align: top;\n",
       "    }\n",
       "\n",
       "    .dataframe thead th {\n",
       "        text-align: right;\n",
       "    }\n",
       "</style>\n",
       "<table border=\"1\" class=\"dataframe\">\n",
       "  <thead>\n",
       "    <tr style=\"text-align: right;\">\n",
       "      <th></th>\n",
       "      <th>TotalSteps</th>\n",
       "      <th>TotalDistance</th>\n",
       "      <th>TrackerDistance</th>\n",
       "      <th>LoggedActivitiesDistance</th>\n",
       "      <th>VeryActiveDistance</th>\n",
       "      <th>ModeratelyActiveDistance</th>\n",
       "      <th>LightActiveDistance</th>\n",
       "      <th>SedentaryActiveDistance</th>\n",
       "      <th>VeryActiveMinutes</th>\n",
       "      <th>FairlyActiveMinutes</th>\n",
       "      <th>LightlyActiveMinutes</th>\n",
       "      <th>SedentaryMinutes</th>\n",
       "      <th>Calories</th>\n",
       "    </tr>\n",
       "  </thead>\n",
       "  <tbody>\n",
       "    <tr>\n",
       "      <th>count</th>\n",
       "      <td>1234.000000</td>\n",
       "      <td>1234.000000</td>\n",
       "      <td>1234.000000</td>\n",
       "      <td>1234.000000</td>\n",
       "      <td>1234.000000</td>\n",
       "      <td>1234.000000</td>\n",
       "      <td>1234.000000</td>\n",
       "      <td>1234.000000</td>\n",
       "      <td>1234.000000</td>\n",
       "      <td>1234.000000</td>\n",
       "      <td>1234.000000</td>\n",
       "      <td>1234.000000</td>\n",
       "      <td>1234.000000</td>\n",
       "    </tr>\n",
       "    <tr>\n",
       "      <th>mean</th>\n",
       "      <td>8121.300648</td>\n",
       "      <td>5.820567</td>\n",
       "      <td>5.790413</td>\n",
       "      <td>0.143076</td>\n",
       "      <td>1.572326</td>\n",
       "      <td>0.607561</td>\n",
       "      <td>3.602877</td>\n",
       "      <td>0.001929</td>\n",
       "      <td>22.109400</td>\n",
       "      <td>15.136143</td>\n",
       "      <td>209.283630</td>\n",
       "      <td>951.935981</td>\n",
       "      <td>2345.077796</td>\n",
       "    </tr>\n",
       "    <tr>\n",
       "      <th>std</th>\n",
       "      <td>4897.590725</td>\n",
       "      <td>3.816192</td>\n",
       "      <td>3.804229</td>\n",
       "      <td>0.732379</td>\n",
       "      <td>2.720970</td>\n",
       "      <td>0.899906</td>\n",
       "      <td>1.900541</td>\n",
       "      <td>0.008205</td>\n",
       "      <td>32.817076</td>\n",
       "      <td>27.622838</td>\n",
       "      <td>98.967741</td>\n",
       "      <td>280.736579</td>\n",
       "      <td>719.893006</td>\n",
       "    </tr>\n",
       "    <tr>\n",
       "      <th>min</th>\n",
       "      <td>0.000000</td>\n",
       "      <td>0.000000</td>\n",
       "      <td>0.000000</td>\n",
       "      <td>0.000000</td>\n",
       "      <td>0.000000</td>\n",
       "      <td>0.000000</td>\n",
       "      <td>0.000000</td>\n",
       "      <td>0.000000</td>\n",
       "      <td>0.000000</td>\n",
       "      <td>0.000000</td>\n",
       "      <td>0.000000</td>\n",
       "      <td>0.000000</td>\n",
       "      <td>52.000000</td>\n",
       "    </tr>\n",
       "    <tr>\n",
       "      <th>25%</th>\n",
       "      <td>4507.500000</td>\n",
       "      <td>3.100000</td>\n",
       "      <td>3.050000</td>\n",
       "      <td>0.000000</td>\n",
       "      <td>0.000000</td>\n",
       "      <td>0.000000</td>\n",
       "      <td>2.252500</td>\n",
       "      <td>0.000000</td>\n",
       "      <td>0.000000</td>\n",
       "      <td>0.000000</td>\n",
       "      <td>145.000000</td>\n",
       "      <td>721.000000</td>\n",
       "      <td>1850.250000</td>\n",
       "    </tr>\n",
       "    <tr>\n",
       "      <th>50%</th>\n",
       "      <td>7748.000000</td>\n",
       "      <td>5.440000</td>\n",
       "      <td>5.430000</td>\n",
       "      <td>0.000000</td>\n",
       "      <td>0.330000</td>\n",
       "      <td>0.280000</td>\n",
       "      <td>3.565000</td>\n",
       "      <td>0.000000</td>\n",
       "      <td>6.000000</td>\n",
       "      <td>8.000000</td>\n",
       "      <td>209.500000</td>\n",
       "      <td>1003.500000</td>\n",
       "      <td>2204.500000</td>\n",
       "    </tr>\n",
       "    <tr>\n",
       "      <th>75%</th>\n",
       "      <td>11036.250000</td>\n",
       "      <td>7.837500</td>\n",
       "      <td>7.827500</td>\n",
       "      <td>0.000000</td>\n",
       "      <td>2.140000</td>\n",
       "      <td>0.840000</td>\n",
       "      <td>4.880000</td>\n",
       "      <td>0.000000</td>\n",
       "      <td>33.000000</td>\n",
       "      <td>21.000000</td>\n",
       "      <td>272.000000</td>\n",
       "      <td>1185.000000</td>\n",
       "      <td>2811.750000</td>\n",
       "    </tr>\n",
       "    <tr>\n",
       "      <th>max</th>\n",
       "      <td>36019.000000</td>\n",
       "      <td>28.030001</td>\n",
       "      <td>28.030001</td>\n",
       "      <td>6.727057</td>\n",
       "      <td>21.920000</td>\n",
       "      <td>6.480000</td>\n",
       "      <td>12.510000</td>\n",
       "      <td>0.110000</td>\n",
       "      <td>210.000000</td>\n",
       "      <td>660.000000</td>\n",
       "      <td>720.000000</td>\n",
       "      <td>1439.000000</td>\n",
       "      <td>4900.000000</td>\n",
       "    </tr>\n",
       "  </tbody>\n",
       "</table>\n",
       "</div>"
      ],
      "text/plain": [
       "         TotalSteps  TotalDistance  TrackerDistance  LoggedActivitiesDistance  \\\n",
       "count   1234.000000    1234.000000      1234.000000               1234.000000   \n",
       "mean    8121.300648       5.820567         5.790413                  0.143076   \n",
       "std     4897.590725       3.816192         3.804229                  0.732379   \n",
       "min        0.000000       0.000000         0.000000                  0.000000   \n",
       "25%     4507.500000       3.100000         3.050000                  0.000000   \n",
       "50%     7748.000000       5.440000         5.430000                  0.000000   \n",
       "75%    11036.250000       7.837500         7.827500                  0.000000   \n",
       "max    36019.000000      28.030001        28.030001                  6.727057   \n",
       "\n",
       "       VeryActiveDistance  ModeratelyActiveDistance  LightActiveDistance  \\\n",
       "count         1234.000000               1234.000000          1234.000000   \n",
       "mean             1.572326                  0.607561             3.602877   \n",
       "std              2.720970                  0.899906             1.900541   \n",
       "min              0.000000                  0.000000             0.000000   \n",
       "25%              0.000000                  0.000000             2.252500   \n",
       "50%              0.330000                  0.280000             3.565000   \n",
       "75%              2.140000                  0.840000             4.880000   \n",
       "max             21.920000                  6.480000            12.510000   \n",
       "\n",
       "       SedentaryActiveDistance  VeryActiveMinutes  FairlyActiveMinutes  \\\n",
       "count              1234.000000        1234.000000          1234.000000   \n",
       "mean                  0.001929          22.109400            15.136143   \n",
       "std                   0.008205          32.817076            27.622838   \n",
       "min                   0.000000           0.000000             0.000000   \n",
       "25%                   0.000000           0.000000             0.000000   \n",
       "50%                   0.000000           6.000000             8.000000   \n",
       "75%                   0.000000          33.000000            21.000000   \n",
       "max                   0.110000         210.000000           660.000000   \n",
       "\n",
       "       LightlyActiveMinutes  SedentaryMinutes     Calories  \n",
       "count           1234.000000       1234.000000  1234.000000  \n",
       "mean             209.283630        951.935981  2345.077796  \n",
       "std               98.967741        280.736579   719.893006  \n",
       "min                0.000000          0.000000    52.000000  \n",
       "25%              145.000000        721.000000  1850.250000  \n",
       "50%              209.500000       1003.500000  2204.500000  \n",
       "75%              272.000000       1185.000000  2811.750000  \n",
       "max              720.000000       1439.000000  4900.000000  "
      ]
     },
     "execution_count": 193,
     "metadata": {},
     "output_type": "execute_result"
    }
   ],
   "source": [
    "fitbit_daily_activity_df.describe()"
   ]
  },
  {
   "cell_type": "code",
   "execution_count": null,
   "metadata": {},
   "outputs": [],
   "source": []
  },
  {
   "cell_type": "markdown",
   "metadata": {},
   "source": [
    "# Feature Engineering to combine activity minutes"
   ]
  },
  {
   "cell_type": "code",
   "execution_count": 194,
   "metadata": {},
   "outputs": [],
   "source": [
    "# using the ActivityMinutes scale: 1=light, 2=moderate, 3=very active. Combine the minutes by their scale to get a total combination of activity minutes.\n",
    "fitbit_daily_activity_df['TotalActivityMinutes'] = (fitbit_daily_activity_df['LightlyActiveMinutes']) + (fitbit_daily_activity_df['FairlyActiveMinutes'] * 2) + (fitbit_daily_activity_df['VeryActiveMinutes'] * 3)"
   ]
  },
  {
   "cell_type": "code",
   "execution_count": 196,
   "metadata": {},
   "outputs": [
    {
     "data": {
      "text/plain": [
       "count    1234.000000\n",
       "mean      305.884117\n",
       "std       156.455571\n",
       "min         0.000000\n",
       "25%       196.000000\n",
       "50%       309.000000\n",
       "75%       406.750000\n",
       "max      1320.000000\n",
       "Name: TotalActivityMinutes, dtype: float64"
      ]
     },
     "execution_count": 196,
     "metadata": {},
     "output_type": "execute_result"
    }
   ],
   "source": [
    "fitbit_daily_activity_df['TotalActivityMinutes'].describe()"
   ]
  },
  {
   "cell_type": "code",
   "execution_count": null,
   "metadata": {},
   "outputs": [],
   "source": []
  },
  {
   "cell_type": "markdown",
   "metadata": {},
   "source": [
    "# Focusing on Intesity Minutes and Total Steps only for now"
   ]
  },
  {
   "cell_type": "code",
   "execution_count": 184,
   "metadata": {},
   "outputs": [],
   "source": [
    "activity_steps_df = fitbit_daily_activity_df[['TotalSteps', 'TotalActivityMinutes']]"
   ]
  },
  {
   "cell_type": "code",
   "execution_count": 185,
   "metadata": {},
   "outputs": [
    {
     "data": {
      "text/html": [
       "<div>\n",
       "<style scoped>\n",
       "    .dataframe tbody tr th:only-of-type {\n",
       "        vertical-align: middle;\n",
       "    }\n",
       "\n",
       "    .dataframe tbody tr th {\n",
       "        vertical-align: top;\n",
       "    }\n",
       "\n",
       "    .dataframe thead th {\n",
       "        text-align: right;\n",
       "    }\n",
       "</style>\n",
       "<table border=\"1\" class=\"dataframe\">\n",
       "  <thead>\n",
       "    <tr style=\"text-align: right;\">\n",
       "      <th></th>\n",
       "      <th>TotalSteps</th>\n",
       "      <th>TotalActivityMinutes</th>\n",
       "    </tr>\n",
       "  </thead>\n",
       "  <tbody>\n",
       "    <tr>\n",
       "      <th>0</th>\n",
       "      <td>11004</td>\n",
       "      <td>328</td>\n",
       "    </tr>\n",
       "    <tr>\n",
       "      <th>1</th>\n",
       "      <td>17609</td>\n",
       "      <td>575</td>\n",
       "    </tr>\n",
       "    <tr>\n",
       "      <th>2</th>\n",
       "      <td>12736</td>\n",
       "      <td>446</td>\n",
       "    </tr>\n",
       "    <tr>\n",
       "      <th>3</th>\n",
       "      <td>13231</td>\n",
       "      <td>381</td>\n",
       "    </tr>\n",
       "    <tr>\n",
       "      <th>4</th>\n",
       "      <td>12041</td>\n",
       "      <td>383</td>\n",
       "    </tr>\n",
       "  </tbody>\n",
       "</table>\n",
       "</div>"
      ],
      "text/plain": [
       "   TotalSteps  TotalActivityMinutes\n",
       "0       11004                   328\n",
       "1       17609                   575\n",
       "2       12736                   446\n",
       "3       13231                   381\n",
       "4       12041                   383"
      ]
     },
     "execution_count": 185,
     "metadata": {},
     "output_type": "execute_result"
    }
   ],
   "source": [
    "activity_steps_df.head()"
   ]
  },
  {
   "cell_type": "markdown",
   "metadata": {},
   "source": [
    "# Feature Scaling and Transformation"
   ]
  },
  {
   "cell_type": "code",
   "execution_count": 146,
   "metadata": {},
   "outputs": [
    {
     "name": "stderr",
     "output_type": "stream",
     "text": [
      "/var/folders/jn/tpkp2dnx08592l_y59z9_f3m0000gn/T/ipykernel_62130/3582164216.py:3: UserWarning: To output multiple subplots, the figure containing the passed axes is being cleared.\n",
      "  activity_steps_df.hist(ax=axis, bins=20)\n"
     ]
    },
    {
     "data": {
      "image/png": "[encoded data removed]",
      "text/plain": [
       "<Figure size 1200x400 with 2 Axes>"
      ]
     },
     "metadata": {},
     "output_type": "display_data"
    }
   ],
   "source": [
    "# inspecting the distribution of each feature:\n",
    "fig, axis = plt.subplots(figsize=(12, 4))\n",
    "activity_steps_df.hist(ax=axis, bins=20)\n",
    "plt.show()"
   ]
  },
  {
   "cell_type": "code",
   "execution_count": 147,
   "metadata": {},
   "outputs": [
    {
     "data": {
      "text/plain": [
       "TotalSteps              0.779597\n",
       "TotalActivityMinutes    0.447907\n",
       "dtype: float64"
      ]
     },
     "execution_count": 147,
     "metadata": {},
     "output_type": "execute_result"
    }
   ],
   "source": [
    "activity_steps_df.skew()"
   ]
  },
  {
   "cell_type": "code",
   "execution_count": 148,
   "metadata": {},
   "outputs": [],
   "source": [
    "before_unskewed_df = activity_steps_df.copy() #(for comparison after)"
   ]
  },
  {
   "cell_type": "code",
   "execution_count": 149,
   "metadata": {},
   "outputs": [],
   "source": [
    "def box_cox_transformation(feature, l):\n",
    "    transform = ColumnTransformer(transformers=[(\"box-cox\", FunctionTransformer(lambda X: stats.boxcox(X, lmbda=l)), [feature])])\n",
    "    # return pd.DataFrame(transform.fit_transform(activity_steps_df))\n",
    "    return transform.fit_transform(activity_steps_df)"
   ]
  },
  {
   "cell_type": "code",
   "execution_count": 150,
   "metadata": {},
   "outputs": [
    {
     "name": "stderr",
     "output_type": "stream",
     "text": [
      "/var/folders/jn/tpkp2dnx08592l_y59z9_f3m0000gn/T/ipykernel_62130/676457165.py:1: SettingWithCopyWarning: \n",
      "A value is trying to be set on a copy of a slice from a DataFrame.\n",
      "Try using .loc[row_indexer,col_indexer] = value instead\n",
      "\n",
      "See the caveats in the documentation: https://pandas.pydata.org/pandas-docs/stable/user_guide/indexing.html#returning-a-view-versus-a-copy\n",
      "  activity_steps_df['TotalSteps'] = box_cox_transformation(feature=\"TotalSteps\", l=0.65)\n",
      "/var/folders/jn/tpkp2dnx08592l_y59z9_f3m0000gn/T/ipykernel_62130/676457165.py:2: SettingWithCopyWarning: \n",
      "A value is trying to be set on a copy of a slice from a DataFrame.\n",
      "Try using .loc[row_indexer,col_indexer] = value instead\n",
      "\n",
      "See the caveats in the documentation: https://pandas.pydata.org/pandas-docs/stable/user_guide/indexing.html#returning-a-view-versus-a-copy\n",
      "  activity_steps_df['TotalActivityMinutes'] = box_cox_transformation(feature=\"TotalActivityMinutes\", l=0.8)\n"
     ]
    }
   ],
   "source": [
    "activity_steps_df['TotalSteps'] = box_cox_transformation(feature=\"TotalSteps\", l=0.65)\n",
    "activity_steps_df['TotalActivityMinutes'] = box_cox_transformation(feature=\"TotalActivityMinutes\", l=0.8)"
   ]
  },
  {
   "cell_type": "code",
   "execution_count": 151,
   "metadata": {},
   "outputs": [
    {
     "data": {
      "image/png": "[encoded data removed]",
      "text/plain": [
       "<Figure size 1500x1200 with 4 Axes>"
      ]
     },
     "metadata": {},
     "output_type": "display_data"
    }
   ],
   "source": [
    "\n",
    "fig, ax = plt.subplots(2, 2, figsize=(15,12))\n",
    "# activity_steps_df.hist(ax=ax, bins=20)\n",
    "sns.histplot(before_unskewed_df['TotalActivityMinutes'], kde=True, ax=ax[0,0], color='red').set(title=f\"Before skew={before_unskewed_df['TotalActivityMinutes'].skew():0.2f}\")\n",
    "sns.histplot(activity_steps_df['TotalActivityMinutes'], kde=True, ax=ax[0,1]).set(title=f\"After skew={activity_steps_df['TotalActivityMinutes'].skew():0.2f}\")\n",
    "\n",
    "sns.histplot(before_unskewed_df['TotalSteps'], kde=True, ax=ax[1,0], color='red').set(title=f\"Before skew={before_unskewed_df['TotalSteps'].skew():0.2f}\")\n",
    "sns.histplot(activity_steps_df['TotalSteps'], kde=True, ax=ax[1,1]).set(title=f\"After skew={activity_steps_df['TotalSteps'].skew():0.2f}\")\n",
    "\n",
    "plt.show()"
   ]
  },
  {
   "cell_type": "code",
   "execution_count": 152,
   "metadata": {},
   "outputs": [
    {
     "data": {
      "text/html": [
       "<div>\n",
       "<style scoped>\n",
       "    .dataframe tbody tr th:only-of-type {\n",
       "        vertical-align: middle;\n",
       "    }\n",
       "\n",
       "    .dataframe tbody tr th {\n",
       "        vertical-align: top;\n",
       "    }\n",
       "\n",
       "    .dataframe thead th {\n",
       "        text-align: right;\n",
       "    }\n",
       "</style>\n",
       "<table border=\"1\" class=\"dataframe\">\n",
       "  <thead>\n",
       "    <tr style=\"text-align: right;\">\n",
       "      <th></th>\n",
       "      <th>TotalSteps</th>\n",
       "      <th>TotalActivityMinutes</th>\n",
       "    </tr>\n",
       "  </thead>\n",
       "  <tbody>\n",
       "    <tr>\n",
       "      <th>count</th>\n",
       "      <td>1234.000000</td>\n",
       "      <td>1234.000000</td>\n",
       "    </tr>\n",
       "    <tr>\n",
       "      <th>mean</th>\n",
       "      <td>507.578976</td>\n",
       "      <td>117.475172</td>\n",
       "    </tr>\n",
       "    <tr>\n",
       "      <th>std</th>\n",
       "      <td>218.141764</td>\n",
       "      <td>51.096951</td>\n",
       "    </tr>\n",
       "    <tr>\n",
       "      <th>min</th>\n",
       "      <td>-1.538462</td>\n",
       "      <td>-1.250000</td>\n",
       "    </tr>\n",
       "    <tr>\n",
       "      <th>25%</th>\n",
       "      <td>363.337166</td>\n",
       "      <td>84.004021</td>\n",
       "    </tr>\n",
       "    <tr>\n",
       "      <th>50%</th>\n",
       "      <td>517.332935</td>\n",
       "      <td>121.459107</td>\n",
       "    </tr>\n",
       "    <tr>\n",
       "      <th>75%</th>\n",
       "      <td>651.472749</td>\n",
       "      <td>151.637515</td>\n",
       "    </tr>\n",
       "    <tr>\n",
       "      <th>max</th>\n",
       "      <td>1407.205984</td>\n",
       "      <td>390.825006</td>\n",
       "    </tr>\n",
       "  </tbody>\n",
       "</table>\n",
       "</div>"
      ],
      "text/plain": [
       "        TotalSteps  TotalActivityMinutes\n",
       "count  1234.000000           1234.000000\n",
       "mean    507.578976            117.475172\n",
       "std     218.141764             51.096951\n",
       "min      -1.538462             -1.250000\n",
       "25%     363.337166             84.004021\n",
       "50%     517.332935            121.459107\n",
       "75%     651.472749            151.637515\n",
       "max    1407.205984            390.825006"
      ]
     },
     "execution_count": 152,
     "metadata": {},
     "output_type": "execute_result"
    }
   ],
   "source": [
    "activity_steps_df.describe()"
   ]
  },
  {
   "cell_type": "markdown",
   "metadata": {},
   "source": [
    "# Scaling the features"
   ]
  },
  {
   "cell_type": "code",
   "execution_count": 153,
   "metadata": {},
   "outputs": [],
   "source": [
    "#^ since the scales are different it's worth scaling the values to be of the same scales, so steps isn't given more weight than activity minutes"
   ]
  },
  {
   "cell_type": "code",
   "execution_count": 154,
   "metadata": {},
   "outputs": [
    {
     "data": {
      "text/plain": [
       "array([[ 0.65421049,  0.19547012],\n",
       "       [ 1.72260393,  1.62396863],\n",
       "       [ 0.95213741,  0.89777839],\n",
       "       ...,\n",
       "       [ 0.60615396,  0.02185493],\n",
       "       [ 2.27363777,  1.21192936],\n",
       "       [ 0.10737306, -0.57405169]])"
      ]
     },
     "execution_count": 154,
     "metadata": {},
     "output_type": "execute_result"
    }
   ],
   "source": [
    "scaler = StandardScaler()\n",
    "scaled_activity_steps = scaler.fit_transform(activity_steps_df)\n",
    "scaled_activity_steps"
   ]
  },
  {
   "cell_type": "code",
   "execution_count": 155,
   "metadata": {},
   "outputs": [
    {
     "data": {
      "text/html": [
       "<div>\n",
       "<style scoped>\n",
       "    .dataframe tbody tr th:only-of-type {\n",
       "        vertical-align: middle;\n",
       "    }\n",
       "\n",
       "    .dataframe tbody tr th {\n",
       "        vertical-align: top;\n",
       "    }\n",
       "\n",
       "    .dataframe thead th {\n",
       "        text-align: right;\n",
       "    }\n",
       "</style>\n",
       "<table border=\"1\" class=\"dataframe\">\n",
       "  <thead>\n",
       "    <tr style=\"text-align: right;\">\n",
       "      <th></th>\n",
       "      <th>TotalSteps</th>\n",
       "      <th>TotalActivityMinutes</th>\n",
       "    </tr>\n",
       "  </thead>\n",
       "  <tbody>\n",
       "    <tr>\n",
       "      <th>0</th>\n",
       "      <td>0.654210</td>\n",
       "      <td>0.195470</td>\n",
       "    </tr>\n",
       "    <tr>\n",
       "      <th>1</th>\n",
       "      <td>1.722604</td>\n",
       "      <td>1.623969</td>\n",
       "    </tr>\n",
       "    <tr>\n",
       "      <th>2</th>\n",
       "      <td>0.952137</td>\n",
       "      <td>0.897778</td>\n",
       "    </tr>\n",
       "    <tr>\n",
       "      <th>3</th>\n",
       "      <td>1.034621</td>\n",
       "      <td>0.516268</td>\n",
       "    </tr>\n",
       "    <tr>\n",
       "      <th>4</th>\n",
       "      <td>0.834406</td>\n",
       "      <td>0.528191</td>\n",
       "    </tr>\n",
       "    <tr>\n",
       "      <th>...</th>\n",
       "      <td>...</td>\n",
       "      <td>...</td>\n",
       "    </tr>\n",
       "    <tr>\n",
       "      <th>1229</th>\n",
       "      <td>0.597776</td>\n",
       "      <td>0.046849</td>\n",
       "    </tr>\n",
       "    <tr>\n",
       "      <th>1230</th>\n",
       "      <td>2.104990</td>\n",
       "      <td>1.058622</td>\n",
       "    </tr>\n",
       "    <tr>\n",
       "      <th>1231</th>\n",
       "      <td>0.606154</td>\n",
       "      <td>0.021855</td>\n",
       "    </tr>\n",
       "    <tr>\n",
       "      <th>1232</th>\n",
       "      <td>2.273638</td>\n",
       "      <td>1.211929</td>\n",
       "    </tr>\n",
       "    <tr>\n",
       "      <th>1233</th>\n",
       "      <td>0.107373</td>\n",
       "      <td>-0.574052</td>\n",
       "    </tr>\n",
       "  </tbody>\n",
       "</table>\n",
       "<p>1234 rows × 2 columns</p>\n",
       "</div>"
      ],
      "text/plain": [
       "      TotalSteps  TotalActivityMinutes\n",
       "0       0.654210              0.195470\n",
       "1       1.722604              1.623969\n",
       "2       0.952137              0.897778\n",
       "3       1.034621              0.516268\n",
       "4       0.834406              0.528191\n",
       "...          ...                   ...\n",
       "1229    0.597776              0.046849\n",
       "1230    2.104990              1.058622\n",
       "1231    0.606154              0.021855\n",
       "1232    2.273638              1.211929\n",
       "1233    0.107373             -0.574052\n",
       "\n",
       "[1234 rows x 2 columns]"
      ]
     },
     "execution_count": 155,
     "metadata": {},
     "output_type": "execute_result"
    }
   ],
   "source": [
    "scaled_activity_steps_df = pd.DataFrame(scaled_activity_steps, columns=activity_steps_df.columns)\n",
    "scaled_activity_steps_df"
   ]
  },
  {
   "cell_type": "code",
   "execution_count": 156,
   "metadata": {},
   "outputs": [
    {
     "data": {
      "text/html": [
       "<div>\n",
       "<style scoped>\n",
       "    .dataframe tbody tr th:only-of-type {\n",
       "        vertical-align: middle;\n",
       "    }\n",
       "\n",
       "    .dataframe tbody tr th {\n",
       "        vertical-align: top;\n",
       "    }\n",
       "\n",
       "    .dataframe thead th {\n",
       "        text-align: right;\n",
       "    }\n",
       "</style>\n",
       "<table border=\"1\" class=\"dataframe\">\n",
       "  <thead>\n",
       "    <tr style=\"text-align: right;\">\n",
       "      <th></th>\n",
       "      <th>TotalSteps</th>\n",
       "      <th>TotalActivityMinutes</th>\n",
       "    </tr>\n",
       "  </thead>\n",
       "  <tbody>\n",
       "    <tr>\n",
       "      <th>count</th>\n",
       "      <td>1234.000000</td>\n",
       "      <td>1.234000e+03</td>\n",
       "    </tr>\n",
       "    <tr>\n",
       "      <th>mean</th>\n",
       "      <td>0.000000</td>\n",
       "      <td>9.212872e-17</td>\n",
       "    </tr>\n",
       "    <tr>\n",
       "      <th>std</th>\n",
       "      <td>1.000405</td>\n",
       "      <td>1.000405e+00</td>\n",
       "    </tr>\n",
       "    <tr>\n",
       "      <th>min</th>\n",
       "      <td>-2.334830</td>\n",
       "      <td>-2.324470e+00</td>\n",
       "    </tr>\n",
       "    <tr>\n",
       "      <th>25%</th>\n",
       "      <td>-0.661498</td>\n",
       "      <td>-6.553174e-01</td>\n",
       "    </tr>\n",
       "    <tr>\n",
       "      <th>50%</th>\n",
       "      <td>0.044732</td>\n",
       "      <td>7.799978e-02</td>\n",
       "    </tr>\n",
       "    <tr>\n",
       "      <th>75%</th>\n",
       "      <td>0.659902</td>\n",
       "      <td>6.688500e-01</td>\n",
       "    </tr>\n",
       "    <tr>\n",
       "      <th>max</th>\n",
       "      <td>4.125720</td>\n",
       "      <td>5.351800e+00</td>\n",
       "    </tr>\n",
       "  </tbody>\n",
       "</table>\n",
       "</div>"
      ],
      "text/plain": [
       "        TotalSteps  TotalActivityMinutes\n",
       "count  1234.000000          1.234000e+03\n",
       "mean      0.000000          9.212872e-17\n",
       "std       1.000405          1.000405e+00\n",
       "min      -2.334830         -2.324470e+00\n",
       "25%      -0.661498         -6.553174e-01\n",
       "50%       0.044732          7.799978e-02\n",
       "75%       0.659902          6.688500e-01\n",
       "max       4.125720          5.351800e+00"
      ]
     },
     "execution_count": 156,
     "metadata": {},
     "output_type": "execute_result"
    }
   ],
   "source": [
    "scaled_activity_steps_df.describe()"
   ]
  },
  {
   "cell_type": "code",
   "execution_count": 157,
   "metadata": {},
   "outputs": [
    {
     "data": {
      "image/png": "[encoded data removed]",
      "text/plain": [
       "<Figure size 640x480 with 1 Axes>"
      ]
     },
     "metadata": {},
     "output_type": "display_data"
    }
   ],
   "source": [
    "plt.plot(scaled_activity_steps_df['TotalSteps'].values, scaled_activity_steps_df['TotalActivityMinutes'].values, '.')\n",
    "plt.xlabel('TotalSteps')\n",
    "plt.ylabel('TotalActivityMinutes')\n",
    "plt.title('TotalSteps vs TotalActivityMinutes scaled values')\n",
    "plt.show()"
   ]
  },
  {
   "cell_type": "code",
   "execution_count": 158,
   "metadata": {},
   "outputs": [],
   "source": [
    "#^^^ perhaps remove that outlier in the top left??"
   ]
  },
  {
   "cell_type": "code",
   "execution_count": null,
   "metadata": {},
   "outputs": [],
   "source": []
  },
  {
   "cell_type": "markdown",
   "metadata": {},
   "source": [
    "# K-means clustering"
   ]
  },
  {
   "cell_type": "code",
   "execution_count": 159,
   "metadata": {},
   "outputs": [],
   "source": [
    "\n",
    "#! number of clusters?\n",
    "kmeans_labels = KMeans(n_clusters=5, random_state=0).fit_predict(scaled_activity_steps_df.values)\n",
    "# kmeans.labels_"
   ]
  },
  {
   "cell_type": "code",
   "execution_count": 160,
   "metadata": {},
   "outputs": [
    {
     "data": {
      "text/plain": [
       "array([1, 4, 1, ..., 1, 4, 3], dtype=int32)"
      ]
     },
     "execution_count": 160,
     "metadata": {},
     "output_type": "execute_result"
    }
   ],
   "source": [
    "kmeans_labels"
   ]
  },
  {
   "cell_type": "code",
   "execution_count": 161,
   "metadata": {},
   "outputs": [
    {
     "data": {
      "text/html": [
       "<div>\n",
       "<style scoped>\n",
       "    .dataframe tbody tr th:only-of-type {\n",
       "        vertical-align: middle;\n",
       "    }\n",
       "\n",
       "    .dataframe tbody tr th {\n",
       "        vertical-align: top;\n",
       "    }\n",
       "\n",
       "    .dataframe thead th {\n",
       "        text-align: right;\n",
       "    }\n",
       "</style>\n",
       "<table border=\"1\" class=\"dataframe\">\n",
       "  <thead>\n",
       "    <tr style=\"text-align: right;\">\n",
       "      <th></th>\n",
       "      <th>TotalSteps</th>\n",
       "      <th>TotalActivityMinutes</th>\n",
       "    </tr>\n",
       "  </thead>\n",
       "  <tbody>\n",
       "    <tr>\n",
       "      <th>count</th>\n",
       "      <td>1234.000000</td>\n",
       "      <td>1.234000e+03</td>\n",
       "    </tr>\n",
       "    <tr>\n",
       "      <th>mean</th>\n",
       "      <td>0.000000</td>\n",
       "      <td>9.212872e-17</td>\n",
       "    </tr>\n",
       "    <tr>\n",
       "      <th>std</th>\n",
       "      <td>1.000405</td>\n",
       "      <td>1.000405e+00</td>\n",
       "    </tr>\n",
       "    <tr>\n",
       "      <th>min</th>\n",
       "      <td>-2.334830</td>\n",
       "      <td>-2.324470e+00</td>\n",
       "    </tr>\n",
       "    <tr>\n",
       "      <th>25%</th>\n",
       "      <td>-0.661498</td>\n",
       "      <td>-6.553174e-01</td>\n",
       "    </tr>\n",
       "    <tr>\n",
       "      <th>50%</th>\n",
       "      <td>0.044732</td>\n",
       "      <td>7.799978e-02</td>\n",
       "    </tr>\n",
       "    <tr>\n",
       "      <th>75%</th>\n",
       "      <td>0.659902</td>\n",
       "      <td>6.688500e-01</td>\n",
       "    </tr>\n",
       "    <tr>\n",
       "      <th>max</th>\n",
       "      <td>4.125720</td>\n",
       "      <td>5.351800e+00</td>\n",
       "    </tr>\n",
       "  </tbody>\n",
       "</table>\n",
       "</div>"
      ],
      "text/plain": [
       "        TotalSteps  TotalActivityMinutes\n",
       "count  1234.000000          1.234000e+03\n",
       "mean      0.000000          9.212872e-17\n",
       "std       1.000405          1.000405e+00\n",
       "min      -2.334830         -2.324470e+00\n",
       "25%      -0.661498         -6.553174e-01\n",
       "50%       0.044732          7.799978e-02\n",
       "75%       0.659902          6.688500e-01\n",
       "max       4.125720          5.351800e+00"
      ]
     },
     "execution_count": 161,
     "metadata": {},
     "output_type": "execute_result"
    }
   ],
   "source": [
    "scaled_activity_steps_df.describe()"
   ]
  },
  {
   "cell_type": "code",
   "execution_count": 162,
   "metadata": {},
   "outputs": [
    {
     "data": {
      "image/png": "[encoded data removed]",
      "text/plain": [
       "<Figure size 640x480 with 1 Axes>"
      ]
     },
     "metadata": {},
     "output_type": "display_data"
    }
   ],
   "source": [
    "#Getting unique labels\n",
    " \n",
    "u_labels = np.unique(kmeans_labels)\n",
    " \n",
    "#plotting the results:\n",
    " \n",
    "for i in u_labels:\n",
    "    plt.scatter(scaled_activity_steps_df[kmeans_labels == i]['TotalSteps'], scaled_activity_steps_df[kmeans_labels == i]['TotalActivityMinutes'] , label = i)\n",
    "plt.legend()\n",
    "\n",
    "plt.title(\"Clustering Daily TotalSteps vs TotalActivityMinutes\")\n",
    "plt.xlabel('TotalSteps')\n",
    "plt.ylabel('TotalActivityMinutes')\n",
    "plt.show()"
   ]
  },
  {
   "cell_type": "code",
   "execution_count": 163,
   "metadata": {},
   "outputs": [],
   "source": [
    "# can then use this model to predict which cluster a user's daily data would fit into, and perhaps get the average group over a week?"
   ]
  }
 ],
 "metadata": {
  "kernelspec": {
   "display_name": "Python 3.10.13 ('gdp')",
   "language": "python",
   "name": "python3"
  },
  "language_info": {
   "codemirror_mode": {
    "name": "ipython",
    "version": 3
   },
   "file_extension": ".py",
   "mimetype": "text/x-python",
   "name": "python",
   "nbconvert_exporter": "python",
   "pygments_lexer": "ipython3",
   "version": "3.10.13"
  },
  "orig_nbformat": 4,
  "vscode": {
   "interpreter": {
    "hash": "6882dc06301760b36bbcb4d51379d264c324440714a2847c29bfa26d42344021"
   }
  }
 },
 "nbformat": 4,
 "nbformat_minor": 2
}
