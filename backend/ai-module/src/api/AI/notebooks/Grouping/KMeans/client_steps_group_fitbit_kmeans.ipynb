{
 "cells": [
  {
   "cell_type": "code",
   "execution_count": 195,
   "metadata": {},
   "outputs": [],
   "source": [
    "import pandas as pd\n",
    "import matplotlib.pyplot as plt\n",
    "from sklearn.model_selection import train_test_split\n",
    "from sklearn.cluster import KMeans\n",
    "import numpy as np\n",
    "from sklearn.preprocessing import FunctionTransformer\n",
    "from sklearn.compose import ColumnTransformer\n",
    "import seaborn as sns\n",
    "from scipy import stats\n",
    "from sklearn.preprocessing import StandardScaler\n",
    "from sklearn.decomposition import PCA"
   ]
  },
  {
   "cell_type": "markdown",
   "metadata": {},
   "source": [
    "# Loading datasets"
   ]
  },
  {
   "cell_type": "code",
   "execution_count": 196,
   "metadata": {},
   "outputs": [
    {
     "data": {
      "text/html": [
       "<div>\n",
       "<style scoped>\n",
       "    .dataframe tbody tr th:only-of-type {\n",
       "        vertical-align: middle;\n",
       "    }\n",
       "\n",
       "    .dataframe tbody tr th {\n",
       "        vertical-align: top;\n",
       "    }\n",
       "\n",
       "    .dataframe thead th {\n",
       "        text-align: right;\n",
       "    }\n",
       "</style>\n",
       "<table border=\"1\" class=\"dataframe\">\n",
       "  <thead>\n",
       "    <tr style=\"text-align: right;\">\n",
       "      <th></th>\n",
       "      <th>id</th>\n",
       "      <th>sleep_target</th>\n",
       "      <th>sleep_value</th>\n",
       "      <th>steps</th>\n",
       "      <th>calories_target</th>\n",
       "      <th>calories_value</th>\n",
       "      <th>createdAt</th>\n",
       "      <th>updatedAt</th>\n",
       "      <th>intensity</th>\n",
       "      <th>min_heart_rate</th>\n",
       "      <th>max_heart_rate</th>\n",
       "      <th>user/id</th>\n",
       "      <th>user/email</th>\n",
       "      <th>user/full_name</th>\n",
       "      <th>user/disable_survey</th>\n",
       "    </tr>\n",
       "  </thead>\n",
       "  <tbody>\n",
       "    <tr>\n",
       "      <th>0</th>\n",
       "      <td>13</td>\n",
       "      <td>480</td>\n",
       "      <td>403.0</td>\n",
       "      <td>8416.0</td>\n",
       "      <td>2048.0</td>\n",
       "      <td>1748.0</td>\n",
       "      <td>2023-05-08 17:56:01.406000+00:00</td>\n",
       "      <td>2023-05-09 23:56:02.232000+00:00</td>\n",
       "      <td>NaN</td>\n",
       "      <td>NaN</td>\n",
       "      <td>NaN</td>\n",
       "      <td>NaN</td>\n",
       "      <td>NaN</td>\n",
       "      <td>NaN</td>\n",
       "      <td>NaN</td>\n",
       "    </tr>\n",
       "    <tr>\n",
       "      <th>1</th>\n",
       "      <td>18</td>\n",
       "      <td>480</td>\n",
       "      <td>383.0</td>\n",
       "      <td>9753.0</td>\n",
       "      <td>2048.0</td>\n",
       "      <td>1848.0</td>\n",
       "      <td>2023-05-10 00:00:03.442000+00:00</td>\n",
       "      <td>2023-05-11 23:56:04.105000+00:00</td>\n",
       "      <td>NaN</td>\n",
       "      <td>NaN</td>\n",
       "      <td>NaN</td>\n",
       "      <td>NaN</td>\n",
       "      <td>NaN</td>\n",
       "      <td>NaN</td>\n",
       "      <td>NaN</td>\n",
       "    </tr>\n",
       "    <tr>\n",
       "      <th>2</th>\n",
       "      <td>23</td>\n",
       "      <td>480</td>\n",
       "      <td>462.0</td>\n",
       "      <td>273.0</td>\n",
       "      <td>2048.0</td>\n",
       "      <td>1199.0</td>\n",
       "      <td>2023-05-12 00:00:03.483000+00:00</td>\n",
       "      <td>2023-05-13 23:56:03.522000+00:00</td>\n",
       "      <td>NaN</td>\n",
       "      <td>NaN</td>\n",
       "      <td>NaN</td>\n",
       "      <td>NaN</td>\n",
       "      <td>NaN</td>\n",
       "      <td>NaN</td>\n",
       "      <td>NaN</td>\n",
       "    </tr>\n",
       "    <tr>\n",
       "      <th>3</th>\n",
       "      <td>28</td>\n",
       "      <td>480</td>\n",
       "      <td>421.0</td>\n",
       "      <td>2504.0</td>\n",
       "      <td>2048.0</td>\n",
       "      <td>745.0</td>\n",
       "      <td>2023-05-14 00:00:03.142000+00:00</td>\n",
       "      <td>2023-05-15 10:28:03.909000+00:00</td>\n",
       "      <td>NaN</td>\n",
       "      <td>NaN</td>\n",
       "      <td>NaN</td>\n",
       "      <td>NaN</td>\n",
       "      <td>NaN</td>\n",
       "      <td>NaN</td>\n",
       "      <td>NaN</td>\n",
       "    </tr>\n",
       "    <tr>\n",
       "      <th>4</th>\n",
       "      <td>33</td>\n",
       "      <td>480</td>\n",
       "      <td>421.0</td>\n",
       "      <td>11681.0</td>\n",
       "      <td>2048.0</td>\n",
       "      <td>2025.0</td>\n",
       "      <td>2023-05-15 12:00:04.019000+00:00</td>\n",
       "      <td>2023-05-15 23:55:04.824000+00:00</td>\n",
       "      <td>NaN</td>\n",
       "      <td>NaN</td>\n",
       "      <td>NaN</td>\n",
       "      <td>NaN</td>\n",
       "      <td>NaN</td>\n",
       "      <td>NaN</td>\n",
       "      <td>NaN</td>\n",
       "    </tr>\n",
       "  </tbody>\n",
       "</table>\n",
       "</div>"
      ],
      "text/plain": [
       "   id  sleep_target  sleep_value    steps  calories_target  calories_value  \\\n",
       "0  13           480        403.0   8416.0           2048.0          1748.0   \n",
       "1  18           480        383.0   9753.0           2048.0          1848.0   \n",
       "2  23           480        462.0    273.0           2048.0          1199.0   \n",
       "3  28           480        421.0   2504.0           2048.0           745.0   \n",
       "4  33           480        421.0  11681.0           2048.0          2025.0   \n",
       "\n",
       "                          createdAt                         updatedAt  \\\n",
       "0  2023-05-08 17:56:01.406000+00:00  2023-05-09 23:56:02.232000+00:00   \n",
       "1  2023-05-10 00:00:03.442000+00:00  2023-05-11 23:56:04.105000+00:00   \n",
       "2  2023-05-12 00:00:03.483000+00:00  2023-05-13 23:56:03.522000+00:00   \n",
       "3  2023-05-14 00:00:03.142000+00:00  2023-05-15 10:28:03.909000+00:00   \n",
       "4  2023-05-15 12:00:04.019000+00:00  2023-05-15 23:55:04.824000+00:00   \n",
       "\n",
       "   intensity  min_heart_rate  max_heart_rate  user/id user/email  \\\n",
       "0        NaN             NaN             NaN      NaN        NaN   \n",
       "1        NaN             NaN             NaN      NaN        NaN   \n",
       "2        NaN             NaN             NaN      NaN        NaN   \n",
       "3        NaN             NaN             NaN      NaN        NaN   \n",
       "4        NaN             NaN             NaN      NaN        NaN   \n",
       "\n",
       "  user/full_name user/disable_survey  \n",
       "0            NaN                 NaN  \n",
       "1            NaN                 NaN  \n",
       "2            NaN                 NaN  \n",
       "3            NaN                 NaN  \n",
       "4            NaN                 NaN  "
      ]
     },
     "execution_count": 196,
     "metadata": {},
     "output_type": "execute_result"
    }
   ],
   "source": [
    "fitbit_daily_activity_df = pd.read_csv('../../../../data/client_data/cleaned/fitbit/cleaned_fitbit_grouped_dups.csv')\n",
    "fitbit_daily_activity_df.head()"
   ]
  },
  {
   "cell_type": "markdown",
   "metadata": {},
   "source": [
    "# Get day of data record"
   ]
  },
  {
   "cell_type": "code",
   "execution_count": 197,
   "metadata": {},
   "outputs": [],
   "source": [
    "# convert datetime columns to datatime data type:\n",
    "fitbit_daily_activity_df['updatedAt'] = pd.to_datetime(fitbit_daily_activity_df['updatedAt'])\n",
    "fitbit_daily_activity_df['createdAt'] = pd.to_datetime(fitbit_daily_activity_df['createdAt'])"
   ]
  },
  {
   "cell_type": "code",
   "execution_count": 198,
   "metadata": {},
   "outputs": [
    {
     "data": {
      "text/plain": [
       "1    1 days 23:56:00.663000\n",
       "2    1 days 23:56:00.039000\n",
       "3    1 days 10:28:00.767000\n",
       "0    1 days 06:00:00.826000\n",
       "76   0 days 23:55:02.347000\n",
       "              ...          \n",
       "61   0 days 00:30:00.258000\n",
       "58   0 days 00:29:59.933000\n",
       "6           0 days 00:00:00\n",
       "51          0 days 00:00:00\n",
       "72          0 days 00:00:00\n",
       "Length: 80, dtype: timedelta64[ns]"
      ]
     },
     "execution_count": 198,
     "metadata": {},
     "output_type": "execute_result"
    }
   ],
   "source": [
    "# Note the first 4 days are longer than 1 day \n",
    "x = fitbit_daily_activity_df['updatedAt'] - fitbit_daily_activity_df['createdAt']\n",
    "x.sort_values()[::-1]"
   ]
  },
  {
   "cell_type": "code",
   "execution_count": 203,
   "metadata": {},
   "outputs": [
    {
     "data": {
      "text/plain": [
       "count     42.000000\n",
       "mean      39.190476\n",
       "std       36.662760\n",
       "min       10.000000\n",
       "25%       13.000000\n",
       "50%       29.500000\n",
       "75%       44.000000\n",
       "max      188.000000\n",
       "Name: intensity, dtype: float64"
      ]
     },
     "execution_count": 203,
     "metadata": {},
     "output_type": "execute_result"
    }
   ],
   "source": [
    "fitbit_daily_activity_df[~fitbit_daily_activity_df['intensity'].isna()]['intensity'].describe()"
   ]
  },
  {
   "cell_type": "code",
   "execution_count": null,
   "metadata": {},
   "outputs": [],
   "source": []
  },
  {
   "cell_type": "code",
   "execution_count": 176,
   "metadata": {},
   "outputs": [
    {
     "data": {
      "text/plain": [
       "count       73.000000\n",
       "mean      7477.534247\n",
       "std       4542.362360\n",
       "min          7.000000\n",
       "25%       5422.000000\n",
       "50%       7697.000000\n",
       "75%       9372.000000\n",
       "max      29384.000000\n",
       "Name: steps, dtype: float64"
      ]
     },
     "execution_count": 176,
     "metadata": {},
     "output_type": "execute_result"
    }
   ],
   "source": [
    "fitbit_daily_activity_df['steps'].describe()"
   ]
  },
  {
   "cell_type": "code",
   "execution_count": 177,
   "metadata": {},
   "outputs": [
    {
     "data": {
      "text/html": [
       "<div>\n",
       "<style scoped>\n",
       "    .dataframe tbody tr th:only-of-type {\n",
       "        vertical-align: middle;\n",
       "    }\n",
       "\n",
       "    .dataframe tbody tr th {\n",
       "        vertical-align: top;\n",
       "    }\n",
       "\n",
       "    .dataframe thead th {\n",
       "        text-align: right;\n",
       "    }\n",
       "</style>\n",
       "<table border=\"1\" class=\"dataframe\">\n",
       "  <thead>\n",
       "    <tr style=\"text-align: right;\">\n",
       "      <th></th>\n",
       "      <th>steps</th>\n",
       "    </tr>\n",
       "  </thead>\n",
       "  <tbody>\n",
       "    <tr>\n",
       "      <th>0</th>\n",
       "      <td>8416.0</td>\n",
       "    </tr>\n",
       "    <tr>\n",
       "      <th>1</th>\n",
       "      <td>9753.0</td>\n",
       "    </tr>\n",
       "    <tr>\n",
       "      <th>2</th>\n",
       "      <td>273.0</td>\n",
       "    </tr>\n",
       "    <tr>\n",
       "      <th>3</th>\n",
       "      <td>2504.0</td>\n",
       "    </tr>\n",
       "    <tr>\n",
       "      <th>4</th>\n",
       "      <td>11681.0</td>\n",
       "    </tr>\n",
       "  </tbody>\n",
       "</table>\n",
       "</div>"
      ],
      "text/plain": [
       "     steps\n",
       "0   8416.0\n",
       "1   9753.0\n",
       "2    273.0\n",
       "3   2504.0\n",
       "4  11681.0"
      ]
     },
     "execution_count": 177,
     "metadata": {},
     "output_type": "execute_result"
    }
   ],
   "source": [
    "# only focusing on steps since the intensity values aren't clear on what they represent\n",
    "steps_df = fitbit_daily_activity_df[['steps']]\n",
    "steps_df.head()"
   ]
  },
  {
   "cell_type": "markdown",
   "metadata": {},
   "source": [
    "# Feature Scaling and Transformation"
   ]
  },
  {
   "cell_type": "code",
   "execution_count": 178,
   "metadata": {},
   "outputs": [
    {
     "data": {
      "image/png": "[encoded data removed]",
      "text/plain": [
       "<Figure size 1200x400 with 1 Axes>"
      ]
     },
     "metadata": {},
     "output_type": "display_data"
    }
   ],
   "source": [
    "# inspecting the distribution of each feature:\n",
    "fig, axis = plt.subplots(figsize=(12, 4))\n",
    "steps_df.hist(ax=axis, bins=20)\n",
    "plt.show()"
   ]
  },
  {
   "cell_type": "code",
   "execution_count": 179,
   "metadata": {},
   "outputs": [
    {
     "data": {
      "text/plain": [
       "steps    1.313359\n",
       "dtype: float64"
      ]
     },
     "execution_count": 179,
     "metadata": {},
     "output_type": "execute_result"
    }
   ],
   "source": [
    "steps_df.skew()"
   ]
  },
  {
   "cell_type": "code",
   "execution_count": 180,
   "metadata": {},
   "outputs": [],
   "source": [
    "before_unskewed_df = steps_df.copy() #(for comparison after)"
   ]
  },
  {
   "cell_type": "code",
   "execution_count": 181,
   "metadata": {},
   "outputs": [],
   "source": [
    "def box_cox_transformation(feature, l):\n",
    "    transform = ColumnTransformer(transformers=[(\"box-cox\", FunctionTransformer(lambda X: stats.boxcox(X, lmbda=l)), [feature])])\n",
    "    # return pd.DataFrame(transform.fit_transform(activity_steps_df))\n",
    "    return transform.fit_transform(steps_df)"
   ]
  },
  {
   "cell_type": "code",
   "execution_count": 182,
   "metadata": {},
   "outputs": [
    {
     "name": "stderr",
     "output_type": "stream",
     "text": [
      "/var/folders/jn/tpkp2dnx08592l_y59z9_f3m0000gn/T/ipykernel_73718/2804551451.py:1: SettingWithCopyWarning: \n",
      "A value is trying to be set on a copy of a slice from a DataFrame.\n",
      "Try using .loc[row_indexer,col_indexer] = value instead\n",
      "\n",
      "See the caveats in the documentation: https://pandas.pydata.org/pandas-docs/stable/user_guide/indexing.html#returning-a-view-versus-a-copy\n",
      "  steps_df['steps'] = box_cox_transformation(feature=\"steps\", l=0.7)\n"
     ]
    }
   ],
   "source": [
    "steps_df['steps'] = box_cox_transformation(feature=\"steps\", l=0.7)"
   ]
  },
  {
   "cell_type": "code",
   "execution_count": 183,
   "metadata": {},
   "outputs": [
    {
     "data": {
      "image/png": "[encoded data removed]",
      "text/plain": [
       "<Figure size 1500x1200 with 2 Axes>"
      ]
     },
     "metadata": {},
     "output_type": "display_data"
    }
   ],
   "source": [
    "\n",
    "fig, ax = plt.subplots(2, 1, figsize=(15,12))\n",
    "# activity_steps_df.hist(ax=ax, bins=20)\n",
    "sns.histplot(before_unskewed_df['steps'], kde=True, ax=ax[0], color='red').set(title=f\"Before skew={before_unskewed_df['steps'].skew():0.2f}\")\n",
    "sns.histplot(steps_df['steps'], kde=True, ax=ax[1]).set(title=f\"After skew={steps_df['steps'].skew():0.2f}\")\n",
    "\n",
    "\n",
    "plt.show()"
   ]
  },
  {
   "cell_type": "code",
   "execution_count": 184,
   "metadata": {},
   "outputs": [
    {
     "data": {
      "text/html": [
       "<div>\n",
       "<style scoped>\n",
       "    .dataframe tbody tr th:only-of-type {\n",
       "        vertical-align: middle;\n",
       "    }\n",
       "\n",
       "    .dataframe tbody tr th {\n",
       "        vertical-align: top;\n",
       "    }\n",
       "\n",
       "    .dataframe thead th {\n",
       "        text-align: right;\n",
       "    }\n",
       "</style>\n",
       "<table border=\"1\" class=\"dataframe\">\n",
       "  <thead>\n",
       "    <tr style=\"text-align: right;\">\n",
       "      <th></th>\n",
       "      <th>steps</th>\n",
       "    </tr>\n",
       "  </thead>\n",
       "  <tbody>\n",
       "    <tr>\n",
       "      <th>count</th>\n",
       "      <td>73.000000</td>\n",
       "    </tr>\n",
       "    <tr>\n",
       "      <th>mean</th>\n",
       "      <td>698.276272</td>\n",
       "    </tr>\n",
       "    <tr>\n",
       "      <th>std</th>\n",
       "      <td>329.479440</td>\n",
       "    </tr>\n",
       "    <tr>\n",
       "      <th>min</th>\n",
       "      <td>4.149327</td>\n",
       "    </tr>\n",
       "    <tr>\n",
       "      <th>25%</th>\n",
       "      <td>585.808710</td>\n",
       "    </tr>\n",
       "    <tr>\n",
       "      <th>50%</th>\n",
       "      <td>749.030481</td>\n",
       "    </tr>\n",
       "    <tr>\n",
       "      <th>75%</th>\n",
       "      <td>859.931143</td>\n",
       "    </tr>\n",
       "    <tr>\n",
       "      <th>max</th>\n",
       "      <td>1915.383787</td>\n",
       "    </tr>\n",
       "  </tbody>\n",
       "</table>\n",
       "</div>"
      ],
      "text/plain": [
       "             steps\n",
       "count    73.000000\n",
       "mean    698.276272\n",
       "std     329.479440\n",
       "min       4.149327\n",
       "25%     585.808710\n",
       "50%     749.030481\n",
       "75%     859.931143\n",
       "max    1915.383787"
      ]
     },
     "execution_count": 184,
     "metadata": {},
     "output_type": "execute_result"
    }
   ],
   "source": [
    "steps_df.describe()"
   ]
  },
  {
   "cell_type": "code",
   "execution_count": null,
   "metadata": {},
   "outputs": [],
   "source": []
  },
  {
   "cell_type": "markdown",
   "metadata": {},
   "source": [
    "# Remove Nans"
   ]
  },
  {
   "cell_type": "code",
   "execution_count": 185,
   "metadata": {},
   "outputs": [
    {
     "data": {
      "text/plain": [
       "steps    7\n",
       "dtype: int64"
      ]
     },
     "execution_count": 185,
     "metadata": {},
     "output_type": "execute_result"
    }
   ],
   "source": [
    "steps_df.isna().sum()"
   ]
  },
  {
   "cell_type": "code",
   "execution_count": 186,
   "metadata": {},
   "outputs": [],
   "source": [
    "steps_df = steps_df.dropna()"
   ]
  },
  {
   "cell_type": "code",
   "execution_count": 187,
   "metadata": {},
   "outputs": [
    {
     "data": {
      "text/plain": [
       "steps    0\n",
       "dtype: int64"
      ]
     },
     "execution_count": 187,
     "metadata": {},
     "output_type": "execute_result"
    }
   ],
   "source": [
    "steps_df.isna().sum()"
   ]
  },
  {
   "cell_type": "code",
   "execution_count": 188,
   "metadata": {},
   "outputs": [],
   "source": [
    "# no scaling needed since we have only 1 feature"
   ]
  },
  {
   "cell_type": "markdown",
   "metadata": {},
   "source": [
    "# K-means clustering"
   ]
  },
  {
   "cell_type": "code",
   "execution_count": 189,
   "metadata": {},
   "outputs": [],
   "source": [
    "\n",
    "#! number of clusters?\n",
    "kmeans_labels = KMeans(n_clusters=5, random_state=0).fit_predict(steps_df.values)\n",
    "# kmeans.labels_"
   ]
  },
  {
   "cell_type": "code",
   "execution_count": 190,
   "metadata": {},
   "outputs": [
    {
     "data": {
      "text/plain": [
       "array([0, 0, 1, 1, 3, 0, 1, 4, 0, 0, 0, 0, 3, 0, 0, 4, 4, 3, 3, 4, 0, 0,\n",
       "       0, 3, 0, 3, 4, 4, 0, 0, 0, 2, 3, 0, 1, 4, 0, 4, 4, 0, 0, 0, 0, 4,\n",
       "       0, 4, 4, 4, 0, 1, 1, 4, 4, 4, 1, 0, 0, 0, 1, 3, 0, 4, 0, 4, 1, 1,\n",
       "       1, 1, 4, 4, 4, 0, 1], dtype=int32)"
      ]
     },
     "execution_count": 190,
     "metadata": {},
     "output_type": "execute_result"
    }
   ],
   "source": [
    "kmeans_labels"
   ]
  },
  {
   "cell_type": "code",
   "execution_count": 191,
   "metadata": {},
   "outputs": [
    {
     "data": {
      "text/plain": [
       "<matplotlib.collections.PathCollection at 0x7feb0310a020>"
      ]
     },
     "execution_count": 191,
     "metadata": {},
     "output_type": "execute_result"
    },
    {
     "data": {
      "image/png": "[encoded data removed]",
      "text/plain": [
       "<Figure size 640x480 with 1 Axes>"
      ]
     },
     "metadata": {},
     "output_type": "display_data"
    }
   ],
   "source": [
    "plt.scatter(steps_df[kmeans_labels == 0]['steps'], [0] * steps_df[kmeans_labels == 0].shape[0])"
   ]
  },
  {
   "cell_type": "code",
   "execution_count": 194,
   "metadata": {},
   "outputs": [
    {
     "data": {
      "image/png": "[encoded data removed]",
      "text/plain": [
       "<Figure size 640x480 with 1 Axes>"
      ]
     },
     "metadata": {},
     "output_type": "display_data"
    }
   ],
   "source": [
    "#Getting unique labels\n",
    " \n",
    "u_labels = np.unique(kmeans_labels)\n",
    " \n",
    "#plotting the results:\n",
    " \n",
    "for i in u_labels:\n",
    "    plt.scatter(steps_df[kmeans_labels == i]['steps'], ([0] * steps_df[kmeans_labels == i].shape[0]), label = i)\n",
    "plt.legend()\n",
    "\n",
    "plt.title(\"Clustering Daily Total Steps\")\n",
    "plt.xlabel('TotalSteps')\n",
    "# plt.ylabel('TotalActivityMinutes')\n",
    "plt.show()"
   ]
  },
  {
   "cell_type": "code",
   "execution_count": 193,
   "metadata": {},
   "outputs": [],
   "source": [
    "# can then use this model to predict which cluster a user's daily data would fit into, and perhaps get the average group over a week?"
   ]
  }
 ],
 "metadata": {
  "kernelspec": {
   "display_name": "Python 3.10.13 ('gdp')",
   "language": "python",
   "name": "python3"
  },
  "language_info": {
   "codemirror_mode": {
    "name": "ipython",
    "version": 3
   },
   "file_extension": ".py",
   "mimetype": "text/x-python",
   "name": "python",
   "nbconvert_exporter": "python",
   "pygments_lexer": "ipython3",
   "version": "3.10.13"
  },
  "orig_nbformat": 4,
  "vscode": {
   "interpreter": {
    "hash": "6882dc06301760b36bbcb4d51379d264c324440714a2847c29bfa26d42344021"
   }
  }
 },
 "nbformat": 4,
 "nbformat_minor": 2
}
