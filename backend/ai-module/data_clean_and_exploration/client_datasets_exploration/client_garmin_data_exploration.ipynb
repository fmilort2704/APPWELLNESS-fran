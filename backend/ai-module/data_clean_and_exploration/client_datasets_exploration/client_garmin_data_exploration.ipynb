{
 "cells": [
  {
   "cell_type": "code",
   "execution_count": 1,
   "metadata": {
    "ExecuteTime": {
     "end_time": "2023-12-07T11:30:15.939763700Z",
     "start_time": "2023-12-07T11:30:15.819703600Z"
    }
   },
   "outputs": [],
   "source": [
    "import pandas as pd\n",
    "import numpy as np\n",
    "import matplotlib.pyplot as plt\n",
    "import os \n",
    "import datetime\n",
    "import seaborn"
   ]
  },
  {
   "cell_type": "markdown",
   "metadata": {},
   "source": [
    "# Loading the dataset"
   ]
  },
  {
   "cell_type": "code",
   "execution_count": 2,
   "metadata": {
    "ExecuteTime": {
     "end_time": "2023-12-07T11:30:16.001013700Z",
     "start_time": "2023-12-07T11:30:15.829774500Z"
    }
   },
   "outputs": [],
   "source": [
    "garmin_csv_df = pd.read_csv('../../data/client_data/raw/garmin/garmin-daily-data-1697722717275.csv', delimiter=',')"
   ]
  },
  {
   "cell_type": "code",
   "execution_count": 3,
   "metadata": {
    "ExecuteTime": {
     "end_time": "2023-12-07T11:30:16.067329Z",
     "start_time": "2023-12-07T11:30:15.836546400Z"
    }
   },
   "outputs": [
    {
     "data": {
      "text/html": [
       "<div>\n",
       "<style scoped>\n",
       "    .dataframe tbody tr th:only-of-type {\n",
       "        vertical-align: middle;\n",
       "    }\n",
       "\n",
       "    .dataframe tbody tr th {\n",
       "        vertical-align: top;\n",
       "    }\n",
       "\n",
       "    .dataframe thead th {\n",
       "        text-align: right;\n",
       "    }\n",
       "</style>\n",
       "<table border=\"1\" class=\"dataframe\">\n",
       "  <thead>\n",
       "    <tr style=\"text-align: right;\">\n",
       "      <th></th>\n",
       "      <th>id</th>\n",
       "      <th>sleep_value</th>\n",
       "      <th>sleep_target</th>\n",
       "      <th>steps</th>\n",
       "      <th>calories_value</th>\n",
       "      <th>calories_target</th>\n",
       "      <th>createdAt</th>\n",
       "      <th>updatedAt</th>\n",
       "      <th>intensity</th>\n",
       "      <th>min_heart_rate</th>\n",
       "      <th>max_heart_rate</th>\n",
       "      <th>daily_step_goal</th>\n",
       "    </tr>\n",
       "  </thead>\n",
       "  <tbody>\n",
       "    <tr>\n",
       "      <th>0</th>\n",
       "      <td>1</td>\n",
       "      <td>254</td>\n",
       "      <td>480</td>\n",
       "      <td>4210</td>\n",
       "      <td>1731</td>\n",
       "      <td>2500</td>\n",
       "      <td>2023-05-16T17:30:00.456Z</td>\n",
       "      <td>2023-05-16T23:55:00.165Z</td>\n",
       "      <td>NaN</td>\n",
       "      <td>NaN</td>\n",
       "      <td>NaN</td>\n",
       "      <td>NaN</td>\n",
       "    </tr>\n",
       "    <tr>\n",
       "      <th>1</th>\n",
       "      <td>2</td>\n",
       "      <td>254</td>\n",
       "      <td>480</td>\n",
       "      <td>4210</td>\n",
       "      <td>1731</td>\n",
       "      <td>2500</td>\n",
       "      <td>2023-05-16T17:30:00.665Z</td>\n",
       "      <td>2023-05-16T23:55:00.346Z</td>\n",
       "      <td>NaN</td>\n",
       "      <td>NaN</td>\n",
       "      <td>NaN</td>\n",
       "      <td>NaN</td>\n",
       "    </tr>\n",
       "    <tr>\n",
       "      <th>2</th>\n",
       "      <td>3</td>\n",
       "      <td>254</td>\n",
       "      <td>480</td>\n",
       "      <td>4210</td>\n",
       "      <td>1731</td>\n",
       "      <td>2500</td>\n",
       "      <td>2023-05-16T17:30:00.858Z</td>\n",
       "      <td>2023-05-16T23:55:00.530Z</td>\n",
       "      <td>NaN</td>\n",
       "      <td>NaN</td>\n",
       "      <td>NaN</td>\n",
       "      <td>NaN</td>\n",
       "    </tr>\n",
       "    <tr>\n",
       "      <th>3</th>\n",
       "      <td>4</td>\n",
       "      <td>254</td>\n",
       "      <td>480</td>\n",
       "      <td>4210</td>\n",
       "      <td>1731</td>\n",
       "      <td>2500</td>\n",
       "      <td>2023-05-17T00:00:00.236Z</td>\n",
       "      <td>2023-05-17T18:10:00.504Z</td>\n",
       "      <td>NaN</td>\n",
       "      <td>NaN</td>\n",
       "      <td>NaN</td>\n",
       "      <td>NaN</td>\n",
       "    </tr>\n",
       "    <tr>\n",
       "      <th>4</th>\n",
       "      <td>5</td>\n",
       "      <td>254</td>\n",
       "      <td>480</td>\n",
       "      <td>4210</td>\n",
       "      <td>1731</td>\n",
       "      <td>2500</td>\n",
       "      <td>2023-05-17T00:00:00.419Z</td>\n",
       "      <td>2023-05-17T23:55:00.194Z</td>\n",
       "      <td>NaN</td>\n",
       "      <td>NaN</td>\n",
       "      <td>NaN</td>\n",
       "      <td>NaN</td>\n",
       "    </tr>\n",
       "  </tbody>\n",
       "</table>\n",
       "</div>"
      ],
      "text/plain": [
       "   id  sleep_value  sleep_target  steps  calories_value  calories_target  \\\n",
       "0   1          254           480   4210            1731             2500   \n",
       "1   2          254           480   4210            1731             2500   \n",
       "2   3          254           480   4210            1731             2500   \n",
       "3   4          254           480   4210            1731             2500   \n",
       "4   5          254           480   4210            1731             2500   \n",
       "\n",
       "                  createdAt                 updatedAt  intensity  \\\n",
       "0  2023-05-16T17:30:00.456Z  2023-05-16T23:55:00.165Z        NaN   \n",
       "1  2023-05-16T17:30:00.665Z  2023-05-16T23:55:00.346Z        NaN   \n",
       "2  2023-05-16T17:30:00.858Z  2023-05-16T23:55:00.530Z        NaN   \n",
       "3  2023-05-17T00:00:00.236Z  2023-05-17T18:10:00.504Z        NaN   \n",
       "4  2023-05-17T00:00:00.419Z  2023-05-17T23:55:00.194Z        NaN   \n",
       "\n",
       "   min_heart_rate  max_heart_rate  daily_step_goal  \n",
       "0             NaN             NaN              NaN  \n",
       "1             NaN             NaN              NaN  \n",
       "2             NaN             NaN              NaN  \n",
       "3             NaN             NaN              NaN  \n",
       "4             NaN             NaN              NaN  "
      ]
     },
     "execution_count": 3,
     "metadata": {},
     "output_type": "execute_result"
    }
   ],
   "source": [
    "garmin_csv_df.head()"
   ]
  },
  {
   "cell_type": "code",
   "execution_count": 4,
   "metadata": {
    "ExecuteTime": {
     "end_time": "2023-12-07T11:30:16.067329Z",
     "start_time": "2023-12-07T11:30:15.846204700Z"
    }
   },
   "outputs": [
    {
     "name": "stdout",
     "output_type": "stream",
     "text": [
      "<class 'pandas.core.frame.DataFrame'>\n",
      "RangeIndex: 17 entries, 0 to 16\n",
      "Data columns (total 12 columns):\n",
      " #   Column           Non-Null Count  Dtype  \n",
      "---  ------           --------------  -----  \n",
      " 0   id               17 non-null     int64  \n",
      " 1   sleep_value      17 non-null     int64  \n",
      " 2   sleep_target     17 non-null     int64  \n",
      " 3   steps            17 non-null     int64  \n",
      " 4   calories_value   17 non-null     int64  \n",
      " 5   calories_target  17 non-null     int64  \n",
      " 6   createdAt        17 non-null     object \n",
      " 7   updatedAt        17 non-null     object \n",
      " 8   intensity        0 non-null      float64\n",
      " 9   min_heart_rate   0 non-null      float64\n",
      " 10  max_heart_rate   0 non-null      float64\n",
      " 11  daily_step_goal  0 non-null      float64\n",
      "dtypes: float64(4), int64(6), object(2)\n",
      "memory usage: 1.7+ KB\n"
     ]
    }
   ],
   "source": [
    "garmin_csv_df.info()"
   ]
  },
  {
   "cell_type": "markdown",
   "metadata": {},
   "source": [
    "# Handling Nans"
   ]
  },
  {
   "cell_type": "code",
   "execution_count": 5,
   "metadata": {
    "ExecuteTime": {
     "end_time": "2023-12-07T11:30:16.102182300Z",
     "start_time": "2023-12-07T11:30:15.853654500Z"
    }
   },
   "outputs": [
    {
     "name": "stdout",
     "output_type": "stream",
     "text": [
      "<class 'pandas.core.frame.DataFrame'>\n",
      "RangeIndex: 17 entries, 0 to 16\n",
      "Data columns (total 8 columns):\n",
      " #   Column           Non-Null Count  Dtype \n",
      "---  ------           --------------  ----- \n",
      " 0   id               17 non-null     int64 \n",
      " 1   sleep_value      17 non-null     int64 \n",
      " 2   sleep_target     17 non-null     int64 \n",
      " 3   steps            17 non-null     int64 \n",
      " 4   calories_value   17 non-null     int64 \n",
      " 5   calories_target  17 non-null     int64 \n",
      " 6   createdAt        17 non-null     object\n",
      " 7   updatedAt        17 non-null     object\n",
      "dtypes: int64(6), object(2)\n",
      "memory usage: 1.2+ KB\n"
     ]
    }
   ],
   "source": [
    "# Drop columns with all nan values:\n",
    "garmin_csv_df = garmin_csv_df.drop(columns=['intensity', 'min_heart_rate', 'max_heart_rate', 'daily_step_goal'])\n",
    "garmin_csv_df.info()"
   ]
  },
  {
   "cell_type": "markdown",
   "metadata": {},
   "source": [
    "# Convert date time fields to datetime data type"
   ]
  },
  {
   "cell_type": "code",
   "execution_count": 6,
   "metadata": {
    "ExecuteTime": {
     "end_time": "2023-12-07T11:30:16.102182300Z",
     "start_time": "2023-12-07T11:30:15.861322700Z"
    }
   },
   "outputs": [],
   "source": [
    "garmin_csv_df['createdAt'] = pd.to_datetime(garmin_csv_df['createdAt'])\n",
    "garmin_csv_df['updatedAt'] = pd.to_datetime(garmin_csv_df['updatedAt'])"
   ]
  },
  {
   "cell_type": "code",
   "execution_count": 7,
   "metadata": {
    "ExecuteTime": {
     "end_time": "2023-12-07T11:30:16.111665200Z",
     "start_time": "2023-12-07T11:30:15.866640600Z"
    }
   },
   "outputs": [
    {
     "name": "stdout",
     "output_type": "stream",
     "text": [
      "<class 'pandas.core.frame.DataFrame'>\n",
      "RangeIndex: 17 entries, 0 to 16\n",
      "Data columns (total 8 columns):\n",
      " #   Column           Non-Null Count  Dtype              \n",
      "---  ------           --------------  -----              \n",
      " 0   id               17 non-null     int64              \n",
      " 1   sleep_value      17 non-null     int64              \n",
      " 2   sleep_target     17 non-null     int64              \n",
      " 3   steps            17 non-null     int64              \n",
      " 4   calories_value   17 non-null     int64              \n",
      " 5   calories_target  17 non-null     int64              \n",
      " 6   createdAt        17 non-null     datetime64[ns, UTC]\n",
      " 7   updatedAt        17 non-null     datetime64[ns, UTC]\n",
      "dtypes: datetime64[ns, UTC](2), int64(6)\n",
      "memory usage: 1.2 KB\n"
     ]
    }
   ],
   "source": [
    "garmin_csv_df.info()"
   ]
  },
  {
   "cell_type": "markdown",
   "metadata": {},
   "source": [
    "# Exploring data values"
   ]
  },
  {
   "cell_type": "code",
   "execution_count": 8,
   "metadata": {
    "ExecuteTime": {
     "end_time": "2023-12-07T11:30:16.112768700Z",
     "start_time": "2023-12-07T11:30:15.873070400Z"
    }
   },
   "outputs": [
    {
     "data": {
      "text/html": [
       "<div>\n",
       "<style scoped>\n",
       "    .dataframe tbody tr th:only-of-type {\n",
       "        vertical-align: middle;\n",
       "    }\n",
       "\n",
       "    .dataframe tbody tr th {\n",
       "        vertical-align: top;\n",
       "    }\n",
       "\n",
       "    .dataframe thead th {\n",
       "        text-align: right;\n",
       "    }\n",
       "</style>\n",
       "<table border=\"1\" class=\"dataframe\">\n",
       "  <thead>\n",
       "    <tr style=\"text-align: right;\">\n",
       "      <th></th>\n",
       "      <th>id</th>\n",
       "      <th>sleep_value</th>\n",
       "      <th>sleep_target</th>\n",
       "      <th>steps</th>\n",
       "      <th>calories_value</th>\n",
       "      <th>calories_target</th>\n",
       "    </tr>\n",
       "  </thead>\n",
       "  <tbody>\n",
       "    <tr>\n",
       "      <th>count</th>\n",
       "      <td>17.000000</td>\n",
       "      <td>17.0</td>\n",
       "      <td>17.0</td>\n",
       "      <td>17.0</td>\n",
       "      <td>17.0</td>\n",
       "      <td>17.0</td>\n",
       "    </tr>\n",
       "    <tr>\n",
       "      <th>mean</th>\n",
       "      <td>16.058824</td>\n",
       "      <td>254.0</td>\n",
       "      <td>480.0</td>\n",
       "      <td>4210.0</td>\n",
       "      <td>1731.0</td>\n",
       "      <td>2500.0</td>\n",
       "    </tr>\n",
       "    <tr>\n",
       "      <th>std</th>\n",
       "      <td>17.177276</td>\n",
       "      <td>0.0</td>\n",
       "      <td>0.0</td>\n",
       "      <td>0.0</td>\n",
       "      <td>0.0</td>\n",
       "      <td>0.0</td>\n",
       "    </tr>\n",
       "    <tr>\n",
       "      <th>min</th>\n",
       "      <td>1.000000</td>\n",
       "      <td>254.0</td>\n",
       "      <td>480.0</td>\n",
       "      <td>4210.0</td>\n",
       "      <td>1731.0</td>\n",
       "      <td>2500.0</td>\n",
       "    </tr>\n",
       "    <tr>\n",
       "      <th>25%</th>\n",
       "      <td>5.000000</td>\n",
       "      <td>254.0</td>\n",
       "      <td>480.0</td>\n",
       "      <td>4210.0</td>\n",
       "      <td>1731.0</td>\n",
       "      <td>2500.0</td>\n",
       "    </tr>\n",
       "    <tr>\n",
       "      <th>50%</th>\n",
       "      <td>9.000000</td>\n",
       "      <td>254.0</td>\n",
       "      <td>480.0</td>\n",
       "      <td>4210.0</td>\n",
       "      <td>1731.0</td>\n",
       "      <td>2500.0</td>\n",
       "    </tr>\n",
       "    <tr>\n",
       "      <th>75%</th>\n",
       "      <td>13.000000</td>\n",
       "      <td>254.0</td>\n",
       "      <td>480.0</td>\n",
       "      <td>4210.0</td>\n",
       "      <td>1731.0</td>\n",
       "      <td>2500.0</td>\n",
       "    </tr>\n",
       "    <tr>\n",
       "      <th>max</th>\n",
       "      <td>47.000000</td>\n",
       "      <td>254.0</td>\n",
       "      <td>480.0</td>\n",
       "      <td>4210.0</td>\n",
       "      <td>1731.0</td>\n",
       "      <td>2500.0</td>\n",
       "    </tr>\n",
       "  </tbody>\n",
       "</table>\n",
       "</div>"
      ],
      "text/plain": [
       "              id  sleep_value  sleep_target   steps  calories_value  \\\n",
       "count  17.000000         17.0          17.0    17.0            17.0   \n",
       "mean   16.058824        254.0         480.0  4210.0          1731.0   \n",
       "std    17.177276          0.0           0.0     0.0             0.0   \n",
       "min     1.000000        254.0         480.0  4210.0          1731.0   \n",
       "25%     5.000000        254.0         480.0  4210.0          1731.0   \n",
       "50%     9.000000        254.0         480.0  4210.0          1731.0   \n",
       "75%    13.000000        254.0         480.0  4210.0          1731.0   \n",
       "max    47.000000        254.0         480.0  4210.0          1731.0   \n",
       "\n",
       "       calories_target  \n",
       "count             17.0  \n",
       "mean            2500.0  \n",
       "std                0.0  \n",
       "min             2500.0  \n",
       "25%             2500.0  \n",
       "50%             2500.0  \n",
       "75%             2500.0  \n",
       "max             2500.0  "
      ]
     },
     "execution_count": 8,
     "metadata": {},
     "output_type": "execute_result"
    }
   ],
   "source": [
    "garmin_csv_df.describe()"
   ]
  },
  {
   "cell_type": "markdown",
   "metadata": {},
   "source": [
    "### ^std shows the same values are recorded for each quantitative field per id"
   ]
  },
  {
   "cell_type": "markdown",
   "metadata": {},
   "source": [
    "### Just id of the data recorded given, but no userId, email, etc"
   ]
  },
  {
   "cell_type": "markdown",
   "metadata": {},
   "source": []
  },
  {
   "cell_type": "markdown",
   "metadata": {},
   "source": [
    "# Exploring the datetime values"
   ]
  },
  {
   "cell_type": "code",
   "execution_count": 9,
   "metadata": {
    "ExecuteTime": {
     "end_time": "2023-12-07T11:30:16.117758500Z",
     "start_time": "2023-12-07T11:30:15.891960900Z"
    }
   },
   "outputs": [
    {
     "data": {
      "text/plain": [
       "0                       NaT\n",
       "1    0 days 00:00:00.209000\n",
       "2    0 days 00:00:00.193000\n",
       "3    0 days 06:29:59.378000\n",
       "4    0 days 00:00:00.183000\n",
       "5    0 days 00:00:00.193000\n",
       "6    0 days 19:00:00.096000\n",
       "7    0 days 04:59:59.576000\n",
       "8    0 days 00:00:00.154000\n",
       "9    0 days 00:00:00.181000\n",
       "10   0 days 23:59:59.592000\n",
       "11   0 days 00:00:00.188000\n",
       "12   0 days 00:00:00.198000\n",
       "13   0 days 16:00:00.167000\n",
       "14   0 days 07:59:59.475000\n",
       "15   0 days 23:59:59.984000\n",
       "16   1 days 00:00:00.079000\n",
       "Name: createdAt, dtype: timedelta64[ns]"
      ]
     },
     "execution_count": 9,
     "metadata": {},
     "output_type": "execute_result"
    }
   ],
   "source": [
    "# difference in createdAt values:\n",
    "garmin_csv_df['createdAt'].diff()"
   ]
  },
  {
   "cell_type": "markdown",
   "metadata": {},
   "source": [
    "### ^ many differences are very small, less than seconds difference, perhaps something linked with syncing?"
   ]
  },
  {
   "cell_type": "code",
   "execution_count": 10,
   "metadata": {
    "ExecuteTime": {
     "end_time": "2023-12-07T11:30:16.148127300Z",
     "start_time": "2023-12-07T11:30:15.901825500Z"
    }
   },
   "outputs": [
    {
     "data": {
      "text/plain": [
       "0    0 days 06:24:59.709000\n",
       "1    0 days 06:24:59.681000\n",
       "2    0 days 06:24:59.672000\n",
       "3    0 days 18:10:00.268000\n",
       "4    0 days 23:54:59.775000\n",
       "5    0 days 23:54:59.732000\n",
       "6    0 days 04:54:59.800000\n",
       "7    0 days 23:54:59.971000\n",
       "8    0 days 23:54:59.992000\n",
       "9    0 days 23:54:59.992000\n",
       "10   0 days 16:30:00.059000\n",
       "11   0 days 16:30:00.066000\n",
       "12   0 days 16:30:00.109000\n",
       "13   0 days 07:54:59.765000\n",
       "14   0 days 23:55:00.265000\n",
       "15   0 days 23:54:59.958000\n",
       "16   0 days 07:00:00.014000\n",
       "dtype: timedelta64[ns]"
      ]
     },
     "execution_count": 10,
     "metadata": {},
     "output_type": "execute_result"
    }
   ],
   "source": [
    "# calculating the difference in createdAt and updatedAt times\n",
    "garmin_csv_df['updatedAt'] - garmin_csv_df['createdAt']"
   ]
  },
  {
   "cell_type": "code",
   "execution_count": 11,
   "metadata": {
    "ExecuteTime": {
     "end_time": "2023-12-07T11:30:16.148127300Z",
     "start_time": "2023-12-07T11:30:15.909608400Z"
    }
   },
   "outputs": [
    {
     "data": {
      "text/plain": [
       "Timedelta('0 days 16:07:38.754588235')"
      ]
     },
     "execution_count": 11,
     "metadata": {},
     "output_type": "execute_result"
    }
   ],
   "source": [
    "# Mean differnce:\n",
    "(garmin_csv_df['updatedAt'] - garmin_csv_df['createdAt']).mean()"
   ]
  },
  {
   "cell_type": "code",
   "execution_count": null,
   "metadata": {
    "ExecuteTime": {
     "end_time": "2023-12-07T11:30:16.148127300Z",
     "start_time": "2023-12-07T11:30:15.915276100Z"
    }
   },
   "outputs": [],
   "source": []
  },
  {
   "cell_type": "markdown",
   "metadata": {},
   "source": [
    "# Checking JSON file provides the same information"
   ]
  },
  {
   "cell_type": "code",
   "execution_count": 12,
   "metadata": {
    "ExecuteTime": {
     "end_time": "2023-12-07T11:28:43.319654800Z",
     "start_time": "2023-12-07T11:28:43.114192700Z"
    }
   },
   "outputs": [
    {
     "data": {
      "text/html": [
       "<div>\n",
       "<style scoped>\n",
       "    .dataframe tbody tr th:only-of-type {\n",
       "        vertical-align: middle;\n",
       "    }\n",
       "\n",
       "    .dataframe tbody tr th {\n",
       "        vertical-align: top;\n",
       "    }\n",
       "\n",
       "    .dataframe thead th {\n",
       "        text-align: right;\n",
       "    }\n",
       "</style>\n",
       "<table border=\"1\" class=\"dataframe\">\n",
       "  <thead>\n",
       "    <tr style=\"text-align: right;\">\n",
       "      <th></th>\n",
       "      <th>id</th>\n",
       "      <th>sleep_value</th>\n",
       "      <th>sleep_target</th>\n",
       "      <th>steps</th>\n",
       "      <th>calories_value</th>\n",
       "      <th>calories_target</th>\n",
       "      <th>createdAt</th>\n",
       "      <th>updatedAt</th>\n",
       "      <th>intensity</th>\n",
       "      <th>min_heart_rate</th>\n",
       "      <th>max_heart_rate</th>\n",
       "      <th>daily_step_goal</th>\n",
       "      <th>user</th>\n",
       "    </tr>\n",
       "  </thead>\n",
       "  <tbody>\n",
       "    <tr>\n",
       "      <th>0</th>\n",
       "      <td>46</td>\n",
       "      <td>254</td>\n",
       "      <td>480</td>\n",
       "      <td>4210</td>\n",
       "      <td>1731</td>\n",
       "      <td>2500</td>\n",
       "      <td>2023-05-21T00:00:00.223Z</td>\n",
       "      <td>2023-05-21T23:55:00.181Z</td>\n",
       "      <td>NaN</td>\n",
       "      <td>NaN</td>\n",
       "      <td>NaN</td>\n",
       "      <td>NaN</td>\n",
       "      <td>NaN</td>\n",
       "    </tr>\n",
       "    <tr>\n",
       "      <th>1</th>\n",
       "      <td>1</td>\n",
       "      <td>254</td>\n",
       "      <td>480</td>\n",
       "      <td>4210</td>\n",
       "      <td>1731</td>\n",
       "      <td>2500</td>\n",
       "      <td>2023-05-16T17:30:00.456Z</td>\n",
       "      <td>2023-05-16T23:55:00.165Z</td>\n",
       "      <td>NaN</td>\n",
       "      <td>NaN</td>\n",
       "      <td>NaN</td>\n",
       "      <td>NaN</td>\n",
       "      <td>NaN</td>\n",
       "    </tr>\n",
       "    <tr>\n",
       "      <th>2</th>\n",
       "      <td>2</td>\n",
       "      <td>254</td>\n",
       "      <td>480</td>\n",
       "      <td>4210</td>\n",
       "      <td>1731</td>\n",
       "      <td>2500</td>\n",
       "      <td>2023-05-16T17:30:00.665Z</td>\n",
       "      <td>2023-05-16T23:55:00.346Z</td>\n",
       "      <td>NaN</td>\n",
       "      <td>NaN</td>\n",
       "      <td>NaN</td>\n",
       "      <td>NaN</td>\n",
       "      <td>NaN</td>\n",
       "    </tr>\n",
       "    <tr>\n",
       "      <th>3</th>\n",
       "      <td>3</td>\n",
       "      <td>254</td>\n",
       "      <td>480</td>\n",
       "      <td>4210</td>\n",
       "      <td>1731</td>\n",
       "      <td>2500</td>\n",
       "      <td>2023-05-16T17:30:00.858Z</td>\n",
       "      <td>2023-05-16T23:55:00.530Z</td>\n",
       "      <td>NaN</td>\n",
       "      <td>NaN</td>\n",
       "      <td>NaN</td>\n",
       "      <td>NaN</td>\n",
       "      <td>NaN</td>\n",
       "    </tr>\n",
       "    <tr>\n",
       "      <th>4</th>\n",
       "      <td>5</td>\n",
       "      <td>254</td>\n",
       "      <td>480</td>\n",
       "      <td>4210</td>\n",
       "      <td>1731</td>\n",
       "      <td>2500</td>\n",
       "      <td>2023-05-17T00:00:00.419Z</td>\n",
       "      <td>2023-05-17T23:55:00.194Z</td>\n",
       "      <td>NaN</td>\n",
       "      <td>NaN</td>\n",
       "      <td>NaN</td>\n",
       "      <td>NaN</td>\n",
       "      <td>NaN</td>\n",
       "    </tr>\n",
       "  </tbody>\n",
       "</table>\n",
       "</div>"
      ],
      "text/plain": [
       "   id  sleep_value  sleep_target  steps  calories_value  calories_target  \\\n",
       "0  46          254           480   4210            1731             2500   \n",
       "1   1          254           480   4210            1731             2500   \n",
       "2   2          254           480   4210            1731             2500   \n",
       "3   3          254           480   4210            1731             2500   \n",
       "4   5          254           480   4210            1731             2500   \n",
       "\n",
       "                  createdAt                 updatedAt  intensity  \\\n",
       "0  2023-05-21T00:00:00.223Z  2023-05-21T23:55:00.181Z        NaN   \n",
       "1  2023-05-16T17:30:00.456Z  2023-05-16T23:55:00.165Z        NaN   \n",
       "2  2023-05-16T17:30:00.665Z  2023-05-16T23:55:00.346Z        NaN   \n",
       "3  2023-05-16T17:30:00.858Z  2023-05-16T23:55:00.530Z        NaN   \n",
       "4  2023-05-17T00:00:00.419Z  2023-05-17T23:55:00.194Z        NaN   \n",
       "\n",
       "   min_heart_rate  max_heart_rate  daily_step_goal  user  \n",
       "0             NaN             NaN              NaN   NaN  \n",
       "1             NaN             NaN              NaN   NaN  \n",
       "2             NaN             NaN              NaN   NaN  \n",
       "3             NaN             NaN              NaN   NaN  \n",
       "4             NaN             NaN              NaN   NaN  "
      ]
     },
     "execution_count": 12,
     "metadata": {},
     "output_type": "execute_result"
    }
   ],
   "source": [
    "# (requires removing the 'data' part of the json file to leave only the records)\n",
    "json_df = pd.read_json('../../data/client_data/raw/garmin/garmin-daily-data-1697722712474 (1).json', orient='records')\n",
    "json_df.head()"
   ]
  },
  {
   "cell_type": "code",
   "execution_count": 13,
   "metadata": {
    "ExecuteTime": {
     "start_time": "2023-12-07T11:28:43.159435700Z"
    }
   },
   "outputs": [],
   "source": [
    "garmin_csv_df_original = pd.read_csv('../../data/client_data/raw/garmin/garmin-daily-data-1697722717275.csv', delimiter=',')\n"
   ]
  },
  {
   "cell_type": "code",
   "execution_count": 14,
   "metadata": {
    "ExecuteTime": {
     "start_time": "2023-12-07T11:28:43.161981300Z"
    }
   },
   "outputs": [],
   "source": [
    "json_df = json_df.sort_values(by=['id'])\n",
    "garmin_csv_df_original = garmin_csv_df_original.sort_values(by=['id'])\n",
    "\n",
    "json_df = json_df.set_index('id')\n",
    "garmin_csv_df_original = garmin_csv_df_original.set_index('id')\n",
    "\n",
    "json_df = json_df.dropna(axis=1, how='all')\n",
    "garmin_csv_df_original = garmin_csv_df_original.dropna(axis=1, how='all')"
   ]
  },
  {
   "cell_type": "code",
   "execution_count": 15,
   "metadata": {
    "ExecuteTime": {
     "start_time": "2023-12-07T11:28:43.163978400Z"
    }
   },
   "outputs": [
    {
     "data": {
      "text/plain": [
       "False"
      ]
     },
     "execution_count": 15,
     "metadata": {},
     "output_type": "execute_result"
    }
   ],
   "source": [
    "json_df.equals(garmin_csv_df)"
   ]
  },
  {
   "cell_type": "code",
   "execution_count": null,
   "metadata": {
    "ExecuteTime": {
     "start_time": "2023-12-07T11:28:43.165973800Z"
    }
   },
   "outputs": [],
   "source": []
  },
  {
   "cell_type": "markdown",
   "metadata": {},
   "source": [
    "# Saving cleaned and preprocessed dataset"
   ]
  },
  {
   "cell_type": "code",
   "execution_count": 16,
   "metadata": {
    "ExecuteTime": {
     "end_time": "2023-12-07T11:30:26.607108300Z",
     "start_time": "2023-12-07T11:30:26.595487300Z"
    }
   },
   "outputs": [],
   "source": [
    "garmin_csv_df.to_csv('../../data/client_data/cleaned/garmin/cleaned_garmin.csv', index=False)\n"
   ]
  },
  {
   "cell_type": "code",
   "execution_count": null,
   "metadata": {
    "ExecuteTime": {
     "start_time": "2023-12-07T11:28:43.168966500Z"
    }
   },
   "outputs": [],
   "source": []
  }
 ],
 "metadata": {
  "kernelspec": {
   "display_name": "Python 3.11.5 ('gdp')",
   "language": "python",
   "name": "python3"
  },
  "language_info": {
   "codemirror_mode": {
    "name": "ipython",
    "version": 3
   },
   "file_extension": ".py",
   "mimetype": "text/x-python",
   "name": "python",
   "nbconvert_exporter": "python",
   "pygments_lexer": "ipython3",
   "version": "3.10.13"
  },
  "orig_nbformat": 4,
  "vscode": {
   "interpreter": {
    "hash": "6882dc06301760b36bbcb4d51379d264c324440714a2847c29bfa26d42344021"
   }
  }
 },
 "nbformat": 4,
 "nbformat_minor": 2
}
