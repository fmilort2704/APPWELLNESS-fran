{
 "cells": [
  {
   "cell_type": "code",
   "execution_count": 43,
   "metadata": {
    "ExecuteTime": {
     "end_time": "2023-12-07T11:27:15.851639Z",
     "start_time": "2023-12-07T11:27:15.751706700Z"
    }
   },
   "outputs": [],
   "source": [
    "import pandas as pd\n",
    "import numpy as np\n",
    "import matplotlib.pyplot as plt\n",
    "import os \n",
    "import datetime\n",
    "import seaborn\n",
    "import matplotlib.cm as cm\n"
   ]
  },
  {
   "cell_type": "markdown",
   "metadata": {},
   "source": [
    "# Loading the dataset"
   ]
  },
  {
   "cell_type": "code",
   "execution_count": 44,
   "metadata": {
    "ExecuteTime": {
     "end_time": "2023-12-07T11:27:16.031141800Z",
     "start_time": "2023-12-07T11:27:15.764137200Z"
    }
   },
   "outputs": [],
   "source": [
    "fitbit_df = pd.read_csv('../../data/client_data/raw/fitbit/fitbit-daily-data-1697722691952.csv', delimiter=',')"
   ]
  },
  {
   "cell_type": "code",
   "execution_count": 45,
   "metadata": {
    "ExecuteTime": {
     "end_time": "2023-12-07T11:27:16.103176800Z",
     "start_time": "2023-12-07T11:27:15.770768400Z"
    }
   },
   "outputs": [
    {
     "data": {
      "text/html": [
       "<div>\n",
       "<style scoped>\n",
       "    .dataframe tbody tr th:only-of-type {\n",
       "        vertical-align: middle;\n",
       "    }\n",
       "\n",
       "    .dataframe tbody tr th {\n",
       "        vertical-align: top;\n",
       "    }\n",
       "\n",
       "    .dataframe thead th {\n",
       "        text-align: right;\n",
       "    }\n",
       "</style>\n",
       "<table border=\"1\" class=\"dataframe\">\n",
       "  <thead>\n",
       "    <tr style=\"text-align: right;\">\n",
       "      <th></th>\n",
       "      <th>id</th>\n",
       "      <th>sleep_target</th>\n",
       "      <th>sleep_value</th>\n",
       "      <th>steps</th>\n",
       "      <th>calories_target</th>\n",
       "      <th>calories_value</th>\n",
       "      <th>createdAt</th>\n",
       "      <th>updatedAt</th>\n",
       "      <th>intensity</th>\n",
       "      <th>min_heart_rate</th>\n",
       "      <th>max_heart_rate</th>\n",
       "      <th>user/id</th>\n",
       "      <th>user/email</th>\n",
       "      <th>user/full_name</th>\n",
       "      <th>user/disable_survey</th>\n",
       "    </tr>\n",
       "  </thead>\n",
       "  <tbody>\n",
       "    <tr>\n",
       "      <th>0</th>\n",
       "      <td>9</td>\n",
       "      <td>480</td>\n",
       "      <td>403</td>\n",
       "      <td>8416.0</td>\n",
       "      <td>2048.0</td>\n",
       "      <td>1748.0</td>\n",
       "      <td>2023-05-08T15:56:00.674Z</td>\n",
       "      <td>2023-05-09T23:56:00.846Z</td>\n",
       "      <td>NaN</td>\n",
       "      <td>NaN</td>\n",
       "      <td>NaN</td>\n",
       "      <td>NaN</td>\n",
       "      <td>NaN</td>\n",
       "      <td>NaN</td>\n",
       "      <td>NaN</td>\n",
       "    </tr>\n",
       "    <tr>\n",
       "      <th>1</th>\n",
       "      <td>10</td>\n",
       "      <td>480</td>\n",
       "      <td>403</td>\n",
       "      <td>8416.0</td>\n",
       "      <td>2048.0</td>\n",
       "      <td>1748.0</td>\n",
       "      <td>2023-05-08T15:56:01.691Z</td>\n",
       "      <td>2023-05-09T23:56:03.334Z</td>\n",
       "      <td>NaN</td>\n",
       "      <td>NaN</td>\n",
       "      <td>NaN</td>\n",
       "      <td>NaN</td>\n",
       "      <td>NaN</td>\n",
       "      <td>NaN</td>\n",
       "      <td>NaN</td>\n",
       "    </tr>\n",
       "    <tr>\n",
       "      <th>2</th>\n",
       "      <td>11</td>\n",
       "      <td>480</td>\n",
       "      <td>403</td>\n",
       "      <td>8416.0</td>\n",
       "      <td>2048.0</td>\n",
       "      <td>1748.0</td>\n",
       "      <td>2023-05-08T15:56:02.348Z</td>\n",
       "      <td>2023-05-09T23:56:04.213Z</td>\n",
       "      <td>NaN</td>\n",
       "      <td>NaN</td>\n",
       "      <td>NaN</td>\n",
       "      <td>NaN</td>\n",
       "      <td>NaN</td>\n",
       "      <td>NaN</td>\n",
       "      <td>NaN</td>\n",
       "    </tr>\n",
       "    <tr>\n",
       "      <th>3</th>\n",
       "      <td>12</td>\n",
       "      <td>480</td>\n",
       "      <td>403</td>\n",
       "      <td>8416.0</td>\n",
       "      <td>2048.0</td>\n",
       "      <td>1748.0</td>\n",
       "      <td>2023-05-08T15:56:02.992Z</td>\n",
       "      <td>2023-05-09T23:56:05.011Z</td>\n",
       "      <td>NaN</td>\n",
       "      <td>NaN</td>\n",
       "      <td>NaN</td>\n",
       "      <td>NaN</td>\n",
       "      <td>NaN</td>\n",
       "      <td>NaN</td>\n",
       "      <td>NaN</td>\n",
       "    </tr>\n",
       "    <tr>\n",
       "      <th>4</th>\n",
       "      <td>13</td>\n",
       "      <td>480</td>\n",
       "      <td>403</td>\n",
       "      <td>8416.0</td>\n",
       "      <td>2048.0</td>\n",
       "      <td>1748.0</td>\n",
       "      <td>2023-05-08T17:56:01.406Z</td>\n",
       "      <td>2023-05-09T23:56:02.232Z</td>\n",
       "      <td>NaN</td>\n",
       "      <td>NaN</td>\n",
       "      <td>NaN</td>\n",
       "      <td>NaN</td>\n",
       "      <td>NaN</td>\n",
       "      <td>NaN</td>\n",
       "      <td>NaN</td>\n",
       "    </tr>\n",
       "  </tbody>\n",
       "</table>\n",
       "</div>"
      ],
      "text/plain": [
       "   id sleep_target sleep_value   steps  calories_target  calories_value  \\\n",
       "0   9          480         403  8416.0           2048.0          1748.0   \n",
       "1  10          480         403  8416.0           2048.0          1748.0   \n",
       "2  11          480         403  8416.0           2048.0          1748.0   \n",
       "3  12          480         403  8416.0           2048.0          1748.0   \n",
       "4  13          480         403  8416.0           2048.0          1748.0   \n",
       "\n",
       "                  createdAt                 updatedAt  intensity  \\\n",
       "0  2023-05-08T15:56:00.674Z  2023-05-09T23:56:00.846Z        NaN   \n",
       "1  2023-05-08T15:56:01.691Z  2023-05-09T23:56:03.334Z        NaN   \n",
       "2  2023-05-08T15:56:02.348Z  2023-05-09T23:56:04.213Z        NaN   \n",
       "3  2023-05-08T15:56:02.992Z  2023-05-09T23:56:05.011Z        NaN   \n",
       "4  2023-05-08T17:56:01.406Z  2023-05-09T23:56:02.232Z        NaN   \n",
       "\n",
       "   min_heart_rate  max_heart_rate  user/id user/email user/full_name  \\\n",
       "0             NaN             NaN      NaN        NaN            NaN   \n",
       "1             NaN             NaN      NaN        NaN            NaN   \n",
       "2             NaN             NaN      NaN        NaN            NaN   \n",
       "3             NaN             NaN      NaN        NaN            NaN   \n",
       "4             NaN             NaN      NaN        NaN            NaN   \n",
       "\n",
       "  user/disable_survey  \n",
       "0                 NaN  \n",
       "1                 NaN  \n",
       "2                 NaN  \n",
       "3                 NaN  \n",
       "4                 NaN  "
      ]
     },
     "execution_count": 45,
     "metadata": {},
     "output_type": "execute_result"
    }
   ],
   "source": [
    "fitbit_df.head()"
   ]
  },
  {
   "cell_type": "code",
   "execution_count": 46,
   "metadata": {
    "ExecuteTime": {
     "end_time": "2023-12-07T11:27:16.117675700Z",
     "start_time": "2023-12-07T11:27:15.785192300Z"
    }
   },
   "outputs": [
    {
     "name": "stdout",
     "output_type": "stream",
     "text": [
      "<class 'pandas.core.frame.DataFrame'>\n",
      "RangeIndex: 375 entries, 0 to 374\n",
      "Data columns (total 15 columns):\n",
      " #   Column               Non-Null Count  Dtype  \n",
      "---  ------               --------------  -----  \n",
      " 0   id                   375 non-null    int64  \n",
      " 1   sleep_target         374 non-null    object \n",
      " 2   sleep_value          265 non-null    object \n",
      " 3   steps                292 non-null    float64\n",
      " 4   calories_target      372 non-null    float64\n",
      " 5   calories_value       372 non-null    float64\n",
      " 6   createdAt            375 non-null    object \n",
      " 7   updatedAt            375 non-null    object \n",
      " 8   intensity            168 non-null    float64\n",
      " 9   min_heart_rate       32 non-null     float64\n",
      " 10  max_heart_rate       32 non-null     float64\n",
      " 11  user/id              37 non-null     float64\n",
      " 12  user/email           37 non-null     object \n",
      " 13  user/full_name       37 non-null     object \n",
      " 14  user/disable_survey  37 non-null     object \n",
      "dtypes: float64(7), int64(1), object(7)\n",
      "memory usage: 44.1+ KB\n"
     ]
    }
   ],
   "source": [
    "fitbit_df.info()"
   ]
  },
  {
   "cell_type": "code",
   "execution_count": null,
   "metadata": {
    "ExecuteTime": {
     "end_time": "2023-12-07T11:27:16.145734600Z",
     "start_time": "2023-12-07T11:27:15.791948400Z"
    }
   },
   "outputs": [],
   "source": []
  },
  {
   "cell_type": "markdown",
   "metadata": {},
   "source": [
    "# Error data values:"
   ]
  },
  {
   "cell_type": "code",
   "execution_count": 47,
   "metadata": {
    "ExecuteTime": {
     "end_time": "2023-12-07T11:27:16.259870600Z",
     "start_time": "2023-12-07T11:27:15.797448600Z"
    }
   },
   "outputs": [
    {
     "data": {
      "text/html": [
       "<div>\n",
       "<style scoped>\n",
       "    .dataframe tbody tr th:only-of-type {\n",
       "        vertical-align: middle;\n",
       "    }\n",
       "\n",
       "    .dataframe tbody tr th {\n",
       "        vertical-align: top;\n",
       "    }\n",
       "\n",
       "    .dataframe thead th {\n",
       "        text-align: right;\n",
       "    }\n",
       "</style>\n",
       "<table border=\"1\" class=\"dataframe\">\n",
       "  <thead>\n",
       "    <tr style=\"text-align: right;\">\n",
       "      <th></th>\n",
       "      <th>id</th>\n",
       "      <th>sleep_target</th>\n",
       "      <th>sleep_value</th>\n",
       "      <th>steps</th>\n",
       "      <th>calories_target</th>\n",
       "      <th>calories_value</th>\n",
       "      <th>createdAt</th>\n",
       "      <th>updatedAt</th>\n",
       "      <th>intensity</th>\n",
       "      <th>min_heart_rate</th>\n",
       "      <th>max_heart_rate</th>\n",
       "      <th>user/id</th>\n",
       "      <th>user/email</th>\n",
       "      <th>user/full_name</th>\n",
       "      <th>user/disable_survey</th>\n",
       "    </tr>\n",
       "  </thead>\n",
       "  <tbody>\n",
       "    <tr>\n",
       "      <th>211</th>\n",
       "      <td>220</td>\n",
       "      <td>[object Object]</td>\n",
       "      <td>[object Object]</td>\n",
       "      <td>NaN</td>\n",
       "      <td>NaN</td>\n",
       "      <td>NaN</td>\n",
       "      <td>2023-06-30T09:00:00.599Z</td>\n",
       "      <td>2023-06-30T09:00:00.599Z</td>\n",
       "      <td>NaN</td>\n",
       "      <td>NaN</td>\n",
       "      <td>NaN</td>\n",
       "      <td>NaN</td>\n",
       "      <td>NaN</td>\n",
       "      <td>NaN</td>\n",
       "      <td>NaN</td>\n",
       "    </tr>\n",
       "    <tr>\n",
       "      <th>220</th>\n",
       "      <td>229</td>\n",
       "      <td>[object Object]</td>\n",
       "      <td>[object Object]</td>\n",
       "      <td>NaN</td>\n",
       "      <td>NaN</td>\n",
       "      <td>NaN</td>\n",
       "      <td>2023-07-02T12:33:07.534Z</td>\n",
       "      <td>2023-07-02T12:33:07.534Z</td>\n",
       "      <td>NaN</td>\n",
       "      <td>NaN</td>\n",
       "      <td>NaN</td>\n",
       "      <td>NaN</td>\n",
       "      <td>NaN</td>\n",
       "      <td>NaN</td>\n",
       "      <td>NaN</td>\n",
       "    </tr>\n",
       "    <tr>\n",
       "      <th>338</th>\n",
       "      <td>347</td>\n",
       "      <td>[object Object]</td>\n",
       "      <td>[object Object]</td>\n",
       "      <td>3855.0</td>\n",
       "      <td>2184.0</td>\n",
       "      <td>1806.0</td>\n",
       "      <td>2023-10-11T16:00:01.417Z</td>\n",
       "      <td>2023-10-11T23:48:59.327Z</td>\n",
       "      <td>21.0</td>\n",
       "      <td>67.0</td>\n",
       "      <td>126.0</td>\n",
       "      <td>106.0</td>\n",
       "      <td>demo1@yopmail.com</td>\n",
       "      <td>Dev</td>\n",
       "      <td>True</td>\n",
       "    </tr>\n",
       "    <tr>\n",
       "      <th>339</th>\n",
       "      <td>348</td>\n",
       "      <td>[object Object]</td>\n",
       "      <td>[object Object]</td>\n",
       "      <td>3855.0</td>\n",
       "      <td>2184.0</td>\n",
       "      <td>1806.0</td>\n",
       "      <td>2023-10-11T16:45:01.988Z</td>\n",
       "      <td>2023-10-12T00:00:44.883Z</td>\n",
       "      <td>21.0</td>\n",
       "      <td>67.0</td>\n",
       "      <td>126.0</td>\n",
       "      <td>107.0</td>\n",
       "      <td>hellotest@yopmail.com</td>\n",
       "      <td>Hello Test</td>\n",
       "      <td>False</td>\n",
       "    </tr>\n",
       "    <tr>\n",
       "      <th>340</th>\n",
       "      <td>349</td>\n",
       "      <td>[object Object]</td>\n",
       "      <td>[object Object]</td>\n",
       "      <td>3855.0</td>\n",
       "      <td>2184.0</td>\n",
       "      <td>1806.0</td>\n",
       "      <td>2023-10-11T18:00:03.237Z</td>\n",
       "      <td>2023-10-12T00:05:23.108Z</td>\n",
       "      <td>21.0</td>\n",
       "      <td>67.0</td>\n",
       "      <td>126.0</td>\n",
       "      <td>108.0</td>\n",
       "      <td>demo@yopmail.com</td>\n",
       "      <td>Demo</td>\n",
       "      <td>True</td>\n",
       "    </tr>\n",
       "    <tr>\n",
       "      <th>341</th>\n",
       "      <td>350</td>\n",
       "      <td>[object Object]</td>\n",
       "      <td>[object Object]</td>\n",
       "      <td>3855.0</td>\n",
       "      <td>2184.0</td>\n",
       "      <td>1806.0</td>\n",
       "      <td>2023-10-11T18:15:03.526Z</td>\n",
       "      <td>2023-10-12T00:07:46.657Z</td>\n",
       "      <td>21.0</td>\n",
       "      <td>67.0</td>\n",
       "      <td>126.0</td>\n",
       "      <td>109.0</td>\n",
       "      <td>demo2@yopmail.com</td>\n",
       "      <td>Demo one</td>\n",
       "      <td>True</td>\n",
       "    </tr>\n",
       "  </tbody>\n",
       "</table>\n",
       "</div>"
      ],
      "text/plain": [
       "      id     sleep_target      sleep_value   steps  calories_target  \\\n",
       "211  220  [object Object]  [object Object]     NaN              NaN   \n",
       "220  229  [object Object]  [object Object]     NaN              NaN   \n",
       "338  347  [object Object]  [object Object]  3855.0           2184.0   \n",
       "339  348  [object Object]  [object Object]  3855.0           2184.0   \n",
       "340  349  [object Object]  [object Object]  3855.0           2184.0   \n",
       "341  350  [object Object]  [object Object]  3855.0           2184.0   \n",
       "\n",
       "     calories_value                 createdAt                 updatedAt  \\\n",
       "211             NaN  2023-06-30T09:00:00.599Z  2023-06-30T09:00:00.599Z   \n",
       "220             NaN  2023-07-02T12:33:07.534Z  2023-07-02T12:33:07.534Z   \n",
       "338          1806.0  2023-10-11T16:00:01.417Z  2023-10-11T23:48:59.327Z   \n",
       "339          1806.0  2023-10-11T16:45:01.988Z  2023-10-12T00:00:44.883Z   \n",
       "340          1806.0  2023-10-11T18:00:03.237Z  2023-10-12T00:05:23.108Z   \n",
       "341          1806.0  2023-10-11T18:15:03.526Z  2023-10-12T00:07:46.657Z   \n",
       "\n",
       "     intensity  min_heart_rate  max_heart_rate  user/id  \\\n",
       "211        NaN             NaN             NaN      NaN   \n",
       "220        NaN             NaN             NaN      NaN   \n",
       "338       21.0            67.0           126.0    106.0   \n",
       "339       21.0            67.0           126.0    107.0   \n",
       "340       21.0            67.0           126.0    108.0   \n",
       "341       21.0            67.0           126.0    109.0   \n",
       "\n",
       "                user/email user/full_name user/disable_survey  \n",
       "211                    NaN            NaN                 NaN  \n",
       "220                    NaN            NaN                 NaN  \n",
       "338      demo1@yopmail.com            Dev                True  \n",
       "339  hellotest@yopmail.com     Hello Test               False  \n",
       "340       demo@yopmail.com           Demo                True  \n",
       "341      demo2@yopmail.com       Demo one                True  "
      ]
     },
     "execution_count": 47,
     "metadata": {},
     "output_type": "execute_result"
    }
   ],
   "source": [
    "fitbit_df[fitbit_df['sleep_target'] == '[object Object]']"
   ]
  },
  {
   "cell_type": "markdown",
   "metadata": {},
   "source": [
    "### ^ impute nans and error values with the most common value (since 98+% have this value and the rest is null/incorrect data format)"
   ]
  },
  {
   "cell_type": "code",
   "execution_count": 48,
   "metadata": {
    "ExecuteTime": {
     "end_time": "2023-12-07T11:27:16.328972900Z",
     "start_time": "2023-12-07T11:27:15.812240500Z"
    }
   },
   "outputs": [
    {
     "data": {
      "text/plain": [
       "480                368\n",
       "[object Object]      6\n",
       "Name: sleep_target, dtype: int64"
      ]
     },
     "execution_count": 48,
     "metadata": {},
     "output_type": "execute_result"
    }
   ],
   "source": [
    "fitbit_df['sleep_target'].value_counts()"
   ]
  },
  {
   "cell_type": "code",
   "execution_count": 49,
   "metadata": {
    "ExecuteTime": {
     "end_time": "2023-12-07T11:27:16.332474700Z",
     "start_time": "2023-12-07T11:27:15.819788200Z"
    }
   },
   "outputs": [
    {
     "data": {
      "text/plain": [
       "0    480\n",
       "Name: sleep_target, dtype: object"
      ]
     },
     "execution_count": 49,
     "metadata": {},
     "output_type": "execute_result"
    }
   ],
   "source": [
    "fitbit_df['sleep_target'].mode()"
   ]
  },
  {
   "cell_type": "code",
   "execution_count": 50,
   "metadata": {
    "ExecuteTime": {
     "end_time": "2023-12-07T11:27:16.347274400Z",
     "start_time": "2023-12-07T11:27:15.825970Z"
    }
   },
   "outputs": [],
   "source": [
    "fitbit_df.loc[fitbit_df['sleep_target'] == '[object Object]', 'sleep_target'] = fitbit_df['sleep_target'].mode()[0]\n",
    "fitbit_df['sleep_target'].fillna(fitbit_df['sleep_target'].mode()[0], inplace=True)"
   ]
  },
  {
   "cell_type": "code",
   "execution_count": 30,
   "metadata": {
    "ExecuteTime": {
     "end_time": "2023-12-07T11:27:16.347274400Z",
     "start_time": "2023-12-07T11:27:15.830722100Z"
    }
   },
   "outputs": [],
   "source": [
    "fitbit_df['sleep_target'] = fitbit_df['sleep_target'].astype(int)"
   ]
  },
  {
   "cell_type": "code",
   "execution_count": 31,
   "metadata": {
    "ExecuteTime": {
     "end_time": "2023-12-07T11:27:16.348271700Z",
     "start_time": "2023-12-07T11:27:15.836915Z"
    }
   },
   "outputs": [
    {
     "data": {
      "text/plain": [
       "480    375\n",
       "Name: sleep_target, dtype: int64"
      ]
     },
     "execution_count": 31,
     "metadata": {},
     "output_type": "execute_result"
    }
   ],
   "source": [
    "fitbit_df['sleep_target'].value_counts()"
   ]
  },
  {
   "cell_type": "code",
   "execution_count": 32,
   "metadata": {
    "ExecuteTime": {
     "end_time": "2023-12-07T11:27:16.348271700Z",
     "start_time": "2023-12-07T11:27:15.843332800Z"
    }
   },
   "outputs": [
    {
     "data": {
      "text/plain": [
       "array(['403', '383', '462', '421', '420', '487', '377', '415', '511', nan,\n",
       "       '425', '450', '381', '419', '486', '484', '303', '464', '443',\n",
       "       '430', '463', '444', '442', '393', '537', '460', '404',\n",
       "       '[object Object]', '472', '471', '559', '465', '434', '426', '490',\n",
       "       '440', '418', '479', '412', '454', '473', '455', '504', '476',\n",
       "       '349', '446', '173', '467', '451', '475', '406', '362', '433',\n",
       "       '60'], dtype=object)"
      ]
     },
     "execution_count": 32,
     "metadata": {},
     "output_type": "execute_result"
    }
   ],
   "source": [
    "fitbit_df['sleep_value'].unique()"
   ]
  },
  {
   "cell_type": "code",
   "execution_count": 33,
   "metadata": {
    "ExecuteTime": {
     "end_time": "2023-12-07T11:27:16.351795400Z",
     "start_time": "2023-12-07T11:27:15.848136400Z"
    }
   },
   "outputs": [
    {
     "data": {
      "text/html": [
       "<div>\n",
       "<style scoped>\n",
       "    .dataframe tbody tr th:only-of-type {\n",
       "        vertical-align: middle;\n",
       "    }\n",
       "\n",
       "    .dataframe tbody tr th {\n",
       "        vertical-align: top;\n",
       "    }\n",
       "\n",
       "    .dataframe thead th {\n",
       "        text-align: right;\n",
       "    }\n",
       "</style>\n",
       "<table border=\"1\" class=\"dataframe\">\n",
       "  <thead>\n",
       "    <tr style=\"text-align: right;\">\n",
       "      <th></th>\n",
       "      <th>id</th>\n",
       "      <th>sleep_target</th>\n",
       "      <th>sleep_value</th>\n",
       "      <th>steps</th>\n",
       "      <th>calories_target</th>\n",
       "      <th>calories_value</th>\n",
       "      <th>createdAt</th>\n",
       "      <th>updatedAt</th>\n",
       "      <th>intensity</th>\n",
       "      <th>min_heart_rate</th>\n",
       "      <th>max_heart_rate</th>\n",
       "      <th>user/id</th>\n",
       "      <th>user/email</th>\n",
       "      <th>user/full_name</th>\n",
       "      <th>user/disable_survey</th>\n",
       "    </tr>\n",
       "  </thead>\n",
       "  <tbody>\n",
       "    <tr>\n",
       "      <th>163</th>\n",
       "      <td>172</td>\n",
       "      <td>480</td>\n",
       "      <td>[object Object]</td>\n",
       "      <td>NaN</td>\n",
       "      <td>2048.0</td>\n",
       "      <td>1169.0</td>\n",
       "      <td>2023-06-19T00:00:00.485Z</td>\n",
       "      <td>2023-06-19T23:45:00.537Z</td>\n",
       "      <td>NaN</td>\n",
       "      <td>NaN</td>\n",
       "      <td>NaN</td>\n",
       "      <td>NaN</td>\n",
       "      <td>NaN</td>\n",
       "      <td>NaN</td>\n",
       "      <td>NaN</td>\n",
       "    </tr>\n",
       "    <tr>\n",
       "      <th>165</th>\n",
       "      <td>174</td>\n",
       "      <td>480</td>\n",
       "      <td>[object Object]</td>\n",
       "      <td>NaN</td>\n",
       "      <td>2048.0</td>\n",
       "      <td>1169.0</td>\n",
       "      <td>2023-06-19T00:00:01.580Z</td>\n",
       "      <td>2023-06-19T23:45:01.671Z</td>\n",
       "      <td>NaN</td>\n",
       "      <td>NaN</td>\n",
       "      <td>NaN</td>\n",
       "      <td>NaN</td>\n",
       "      <td>NaN</td>\n",
       "      <td>NaN</td>\n",
       "      <td>NaN</td>\n",
       "    </tr>\n",
       "    <tr>\n",
       "      <th>211</th>\n",
       "      <td>220</td>\n",
       "      <td>480</td>\n",
       "      <td>[object Object]</td>\n",
       "      <td>NaN</td>\n",
       "      <td>NaN</td>\n",
       "      <td>NaN</td>\n",
       "      <td>2023-06-30T09:00:00.599Z</td>\n",
       "      <td>2023-06-30T09:00:00.599Z</td>\n",
       "      <td>NaN</td>\n",
       "      <td>NaN</td>\n",
       "      <td>NaN</td>\n",
       "      <td>NaN</td>\n",
       "      <td>NaN</td>\n",
       "      <td>NaN</td>\n",
       "      <td>NaN</td>\n",
       "    </tr>\n",
       "    <tr>\n",
       "      <th>220</th>\n",
       "      <td>229</td>\n",
       "      <td>480</td>\n",
       "      <td>[object Object]</td>\n",
       "      <td>NaN</td>\n",
       "      <td>NaN</td>\n",
       "      <td>NaN</td>\n",
       "      <td>2023-07-02T12:33:07.534Z</td>\n",
       "      <td>2023-07-02T12:33:07.534Z</td>\n",
       "      <td>NaN</td>\n",
       "      <td>NaN</td>\n",
       "      <td>NaN</td>\n",
       "      <td>NaN</td>\n",
       "      <td>NaN</td>\n",
       "      <td>NaN</td>\n",
       "      <td>NaN</td>\n",
       "    </tr>\n",
       "    <tr>\n",
       "      <th>257</th>\n",
       "      <td>266</td>\n",
       "      <td>480</td>\n",
       "      <td>[object Object]</td>\n",
       "      <td>NaN</td>\n",
       "      <td>NaN</td>\n",
       "      <td>NaN</td>\n",
       "      <td>2023-07-11T03:32:07.842Z</td>\n",
       "      <td>2023-07-11T03:32:07.842Z</td>\n",
       "      <td>NaN</td>\n",
       "      <td>NaN</td>\n",
       "      <td>NaN</td>\n",
       "      <td>NaN</td>\n",
       "      <td>NaN</td>\n",
       "      <td>NaN</td>\n",
       "      <td>NaN</td>\n",
       "    </tr>\n",
       "  </tbody>\n",
       "</table>\n",
       "</div>"
      ],
      "text/plain": [
       "      id  sleep_target      sleep_value  steps  calories_target  \\\n",
       "163  172           480  [object Object]    NaN           2048.0   \n",
       "165  174           480  [object Object]    NaN           2048.0   \n",
       "211  220           480  [object Object]    NaN              NaN   \n",
       "220  229           480  [object Object]    NaN              NaN   \n",
       "257  266           480  [object Object]    NaN              NaN   \n",
       "\n",
       "     calories_value                 createdAt                 updatedAt  \\\n",
       "163          1169.0  2023-06-19T00:00:00.485Z  2023-06-19T23:45:00.537Z   \n",
       "165          1169.0  2023-06-19T00:00:01.580Z  2023-06-19T23:45:01.671Z   \n",
       "211             NaN  2023-06-30T09:00:00.599Z  2023-06-30T09:00:00.599Z   \n",
       "220             NaN  2023-07-02T12:33:07.534Z  2023-07-02T12:33:07.534Z   \n",
       "257             NaN  2023-07-11T03:32:07.842Z  2023-07-11T03:32:07.842Z   \n",
       "\n",
       "     intensity  min_heart_rate  max_heart_rate  user/id user/email  \\\n",
       "163        NaN             NaN             NaN      NaN        NaN   \n",
       "165        NaN             NaN             NaN      NaN        NaN   \n",
       "211        NaN             NaN             NaN      NaN        NaN   \n",
       "220        NaN             NaN             NaN      NaN        NaN   \n",
       "257        NaN             NaN             NaN      NaN        NaN   \n",
       "\n",
       "    user/full_name user/disable_survey  \n",
       "163            NaN                 NaN  \n",
       "165            NaN                 NaN  \n",
       "211            NaN                 NaN  \n",
       "220            NaN                 NaN  \n",
       "257            NaN                 NaN  "
      ]
     },
     "execution_count": 33,
     "metadata": {},
     "output_type": "execute_result"
    }
   ],
   "source": [
    "fitbit_df[fitbit_df['sleep_value'] == '[object Object]'].head()"
   ]
  },
  {
   "cell_type": "code",
   "execution_count": 13,
   "metadata": {
    "ExecuteTime": {
     "end_time": "2023-12-07T11:27:16.352794Z",
     "start_time": "2023-12-07T11:27:15.863214700Z"
    }
   },
   "outputs": [],
   "source": [
    "fitbit_df.loc[fitbit_df['sleep_value'] == '[object Object]', 'sleep_value'] = np.nan"
   ]
  },
  {
   "cell_type": "code",
   "execution_count": 14,
   "metadata": {
    "ExecuteTime": {
     "end_time": "2023-12-07T11:27:16.352794Z",
     "start_time": "2023-12-07T11:27:15.869894200Z"
    }
   },
   "outputs": [],
   "source": [
    "#^ keeping nans for now since this dataset may be used in the validation process"
   ]
  },
  {
   "cell_type": "markdown",
   "metadata": {},
   "source": [
    "# Convert date time fields to datetime data type"
   ]
  },
  {
   "cell_type": "code",
   "execution_count": 15,
   "metadata": {
    "ExecuteTime": {
     "end_time": "2023-12-07T11:27:16.352794Z",
     "start_time": "2023-12-07T11:27:15.873921100Z"
    }
   },
   "outputs": [],
   "source": [
    "fitbit_df['createdAt'] = pd.to_datetime(fitbit_df['createdAt'])\n",
    "fitbit_df['updatedAt'] = pd.to_datetime(fitbit_df['updatedAt'])"
   ]
  },
  {
   "cell_type": "code",
   "execution_count": 16,
   "metadata": {
    "ExecuteTime": {
     "end_time": "2023-12-07T11:27:16.352794Z",
     "start_time": "2023-12-07T11:27:15.883245600Z"
    }
   },
   "outputs": [
    {
     "name": "stdout",
     "output_type": "stream",
     "text": [
      "<class 'pandas.core.frame.DataFrame'>\n",
      "RangeIndex: 375 entries, 0 to 374\n",
      "Data columns (total 15 columns):\n",
      " #   Column               Non-Null Count  Dtype              \n",
      "---  ------               --------------  -----              \n",
      " 0   id                   375 non-null    int64              \n",
      " 1   sleep_target         375 non-null    int64              \n",
      " 2   sleep_value          247 non-null    object             \n",
      " 3   steps                292 non-null    float64            \n",
      " 4   calories_target      372 non-null    float64            \n",
      " 5   calories_value       372 non-null    float64            \n",
      " 6   createdAt            375 non-null    datetime64[ns, UTC]\n",
      " 7   updatedAt            375 non-null    datetime64[ns, UTC]\n",
      " 8   intensity            168 non-null    float64            \n",
      " 9   min_heart_rate       32 non-null     float64            \n",
      " 10  max_heart_rate       32 non-null     float64            \n",
      " 11  user/id              37 non-null     float64            \n",
      " 12  user/email           37 non-null     object             \n",
      " 13  user/full_name       37 non-null     object             \n",
      " 14  user/disable_survey  37 non-null     object             \n",
      "dtypes: datetime64[ns, UTC](2), float64(7), int64(2), object(4)\n",
      "memory usage: 44.1+ KB\n"
     ]
    }
   ],
   "source": [
    "fitbit_df.info()"
   ]
  },
  {
   "cell_type": "markdown",
   "metadata": {},
   "source": [
    "# Grouping rows"
   ]
  },
  {
   "cell_type": "markdown",
   "metadata": {},
   "source": [
    "### Seems to appear that groups of around 4 to 5 rows have the same steps and calories"
   ]
  },
  {
   "cell_type": "code",
   "execution_count": 17,
   "metadata": {
    "ExecuteTime": {
     "end_time": "2023-12-07T11:27:16.352794Z",
     "start_time": "2023-12-07T11:27:15.893180600Z"
    }
   },
   "outputs": [],
   "source": [
    "# appears that the updated and created at times are very close together for these groups also, investigate:\n",
    "created_at_diffs_means = []\n",
    "updated_at_diffs_means = []\n",
    "for group, grouped_df in fitbit_df.groupby(['steps', 'calories_value']):\n",
    "    created_at_diff_mean = grouped_df['createdAt'].diff().mean()\n",
    "    created_at_diffs_means.append(created_at_diff_mean)\n",
    "    \n",
    "    updated_at_diff_mean = grouped_df['updatedAt'].diff().mean()\n",
    "    updated_at_diffs_means.append(updated_at_diff_mean)\n",
    "    "
   ]
  },
  {
   "cell_type": "code",
   "execution_count": 18,
   "metadata": {
    "ExecuteTime": {
     "end_time": "2023-12-07T11:27:16.358782100Z",
     "start_time": "2023-12-07T11:27:15.941151700Z"
    }
   },
   "outputs": [
    {
     "data": {
      "text/plain": [
       "(Timedelta('0 days 00:01:07.421426055'), Timedelta('0 days 00:00:00.646000'))"
      ]
     },
     "execution_count": 18,
     "metadata": {},
     "output_type": "execute_result"
    }
   ],
   "source": [
    "# (NaTs for a group of length 1)\n",
    "created_at_diffs_means = np.array(created_at_diffs_means)\n",
    "created_at_diffs_means = created_at_diffs_means[~pd.isnull(created_at_diffs_means)]\n",
    "\n",
    "# the average of means of the differences between these groups\n",
    "created_at_diffs_means.mean(), np.median(created_at_diffs_means)"
   ]
  },
  {
   "cell_type": "code",
   "execution_count": 19,
   "metadata": {
    "ExecuteTime": {
     "end_time": "2023-12-07T11:27:16.359795300Z",
     "start_time": "2023-12-07T11:27:15.946115700Z"
    }
   },
   "outputs": [
    {
     "data": {
      "text/plain": [
       "(Timedelta('0 days 00:00:06.137431924'),\n",
       " Timedelta('0 days 00:00:00.857666666'))"
      ]
     },
     "execution_count": 19,
     "metadata": {},
     "output_type": "execute_result"
    }
   ],
   "source": [
    "updated_at_diffs_means = np.array(updated_at_diffs_means)\n",
    "updated_at_diffs_means = updated_at_diffs_means[~pd.isnull(updated_at_diffs_means)]\n",
    "\n",
    "updated_at_diffs_means.mean(), np.median(updated_at_diffs_means)"
   ]
  },
  {
   "cell_type": "code",
   "execution_count": 20,
   "metadata": {
    "ExecuteTime": {
     "end_time": "2023-12-07T11:27:16.359795300Z",
     "start_time": "2023-12-07T11:27:15.953026300Z"
    }
   },
   "outputs": [
    {
     "name": "stdout",
     "output_type": "stream",
     "text": [
      "[106. 107. 108. 109.]\n",
      "[106. 107. 108. 109.]\n",
      "[106. 107. 108. 109.]\n",
      "[106. 107. 108. 109.]\n",
      "[106. 107. 108. 109.]\n",
      "[106. 107. 108. 109.]\n",
      "[106. 107. 108. 109.]\n",
      "[106. 107. 108. 109.]\n",
      "[106. 107. 108. 109.]\n"
     ]
    }
   ],
   "source": [
    "# Investigating if the same userIds are showing up for these groups?\n",
    "for group, grouped_df in fitbit_df.groupby(['steps', 'calories_value']):\n",
    "    if len(grouped_df) > 1 and not grouped_df['user/id'].isna().all():\n",
    "        print(grouped_df['user/id'].values)"
   ]
  },
  {
   "cell_type": "markdown",
   "metadata": {},
   "source": [
    "### From the rows which provide user Ids, this suggests that the same Ids are showing same results\n",
    "#### Perhaps users with the exact same steps and calorie values, however considering the average updateAt time difference in these groups is less than 1 second, it seems very unlikely. Perhaps more likely that one device results are being recorded for multiple accounts?"
   ]
  },
  {
   "cell_type": "code",
   "execution_count": 21,
   "metadata": {
    "ExecuteTime": {
     "end_time": "2023-12-07T11:27:16.361281900Z",
     "start_time": "2023-12-07T11:27:15.970021100Z"
    }
   },
   "outputs": [
    {
     "data": {
      "text/html": [
       "<div>\n",
       "<style scoped>\n",
       "    .dataframe tbody tr th:only-of-type {\n",
       "        vertical-align: middle;\n",
       "    }\n",
       "\n",
       "    .dataframe tbody tr th {\n",
       "        vertical-align: top;\n",
       "    }\n",
       "\n",
       "    .dataframe thead th {\n",
       "        text-align: right;\n",
       "    }\n",
       "</style>\n",
       "<table border=\"1\" class=\"dataframe\">\n",
       "  <thead>\n",
       "    <tr style=\"text-align: right;\">\n",
       "      <th></th>\n",
       "      <th>id</th>\n",
       "      <th>sleep_target</th>\n",
       "      <th>sleep_value</th>\n",
       "      <th>steps</th>\n",
       "      <th>calories_target</th>\n",
       "      <th>calories_value</th>\n",
       "      <th>createdAt</th>\n",
       "      <th>updatedAt</th>\n",
       "      <th>intensity</th>\n",
       "      <th>min_heart_rate</th>\n",
       "      <th>max_heart_rate</th>\n",
       "      <th>user/id</th>\n",
       "      <th>user/email</th>\n",
       "      <th>user/full_name</th>\n",
       "      <th>user/disable_survey</th>\n",
       "    </tr>\n",
       "  </thead>\n",
       "  <tbody>\n",
       "    <tr>\n",
       "      <th>4</th>\n",
       "      <td>13</td>\n",
       "      <td>480</td>\n",
       "      <td>403</td>\n",
       "      <td>8416.0</td>\n",
       "      <td>2048.0</td>\n",
       "      <td>1748.0</td>\n",
       "      <td>2023-05-08 17:56:01.406000+00:00</td>\n",
       "      <td>2023-05-09 23:56:02.232000+00:00</td>\n",
       "      <td>NaN</td>\n",
       "      <td>NaN</td>\n",
       "      <td>NaN</td>\n",
       "      <td>NaN</td>\n",
       "      <td>NaN</td>\n",
       "      <td>NaN</td>\n",
       "      <td>NaN</td>\n",
       "    </tr>\n",
       "    <tr>\n",
       "      <th>9</th>\n",
       "      <td>18</td>\n",
       "      <td>480</td>\n",
       "      <td>383</td>\n",
       "      <td>9753.0</td>\n",
       "      <td>2048.0</td>\n",
       "      <td>1848.0</td>\n",
       "      <td>2023-05-10 00:00:03.442000+00:00</td>\n",
       "      <td>2023-05-11 23:56:04.105000+00:00</td>\n",
       "      <td>NaN</td>\n",
       "      <td>NaN</td>\n",
       "      <td>NaN</td>\n",
       "      <td>NaN</td>\n",
       "      <td>NaN</td>\n",
       "      <td>NaN</td>\n",
       "      <td>NaN</td>\n",
       "    </tr>\n",
       "    <tr>\n",
       "      <th>14</th>\n",
       "      <td>23</td>\n",
       "      <td>480</td>\n",
       "      <td>462</td>\n",
       "      <td>273.0</td>\n",
       "      <td>2048.0</td>\n",
       "      <td>1199.0</td>\n",
       "      <td>2023-05-12 00:00:03.483000+00:00</td>\n",
       "      <td>2023-05-13 23:56:03.522000+00:00</td>\n",
       "      <td>NaN</td>\n",
       "      <td>NaN</td>\n",
       "      <td>NaN</td>\n",
       "      <td>NaN</td>\n",
       "      <td>NaN</td>\n",
       "      <td>NaN</td>\n",
       "      <td>NaN</td>\n",
       "    </tr>\n",
       "    <tr>\n",
       "      <th>19</th>\n",
       "      <td>28</td>\n",
       "      <td>480</td>\n",
       "      <td>421</td>\n",
       "      <td>2504.0</td>\n",
       "      <td>2048.0</td>\n",
       "      <td>745.0</td>\n",
       "      <td>2023-05-14 00:00:03.142000+00:00</td>\n",
       "      <td>2023-05-15 10:28:03.909000+00:00</td>\n",
       "      <td>NaN</td>\n",
       "      <td>NaN</td>\n",
       "      <td>NaN</td>\n",
       "      <td>NaN</td>\n",
       "      <td>NaN</td>\n",
       "      <td>NaN</td>\n",
       "      <td>NaN</td>\n",
       "    </tr>\n",
       "    <tr>\n",
       "      <th>24</th>\n",
       "      <td>33</td>\n",
       "      <td>480</td>\n",
       "      <td>421</td>\n",
       "      <td>11681.0</td>\n",
       "      <td>2048.0</td>\n",
       "      <td>2025.0</td>\n",
       "      <td>2023-05-15 12:00:04.019000+00:00</td>\n",
       "      <td>2023-05-15 23:55:04.824000+00:00</td>\n",
       "      <td>NaN</td>\n",
       "      <td>NaN</td>\n",
       "      <td>NaN</td>\n",
       "      <td>NaN</td>\n",
       "      <td>NaN</td>\n",
       "      <td>NaN</td>\n",
       "      <td>NaN</td>\n",
       "    </tr>\n",
       "    <tr>\n",
       "      <th>...</th>\n",
       "      <td>...</td>\n",
       "      <td>...</td>\n",
       "      <td>...</td>\n",
       "      <td>...</td>\n",
       "      <td>...</td>\n",
       "      <td>...</td>\n",
       "      <td>...</td>\n",
       "      <td>...</td>\n",
       "      <td>...</td>\n",
       "      <td>...</td>\n",
       "      <td>...</td>\n",
       "      <td>...</td>\n",
       "      <td>...</td>\n",
       "      <td>...</td>\n",
       "      <td>...</td>\n",
       "    </tr>\n",
       "    <tr>\n",
       "      <th>358</th>\n",
       "      <td>367</td>\n",
       "      <td>480</td>\n",
       "      <td>NaN</td>\n",
       "      <td>4842.0</td>\n",
       "      <td>2184.0</td>\n",
       "      <td>1983.0</td>\n",
       "      <td>2023-10-15 00:00:02.581000+00:00</td>\n",
       "      <td>2023-10-15 23:55:03.092000+00:00</td>\n",
       "      <td>NaN</td>\n",
       "      <td>75.0</td>\n",
       "      <td>127.0</td>\n",
       "      <td>109.0</td>\n",
       "      <td>demo2@yopmail.com</td>\n",
       "      <td>Demo one</td>\n",
       "      <td>True</td>\n",
       "    </tr>\n",
       "    <tr>\n",
       "      <th>362</th>\n",
       "      <td>371</td>\n",
       "      <td>480</td>\n",
       "      <td>362</td>\n",
       "      <td>5680.0</td>\n",
       "      <td>2184.0</td>\n",
       "      <td>2122.0</td>\n",
       "      <td>2023-10-16 00:00:02.712000+00:00</td>\n",
       "      <td>2023-10-16 23:55:05.059000+00:00</td>\n",
       "      <td>32.0</td>\n",
       "      <td>60.0</td>\n",
       "      <td>141.0</td>\n",
       "      <td>109.0</td>\n",
       "      <td>demo2@yopmail.com</td>\n",
       "      <td>Demo one</td>\n",
       "      <td>True</td>\n",
       "    </tr>\n",
       "    <tr>\n",
       "      <th>366</th>\n",
       "      <td>375</td>\n",
       "      <td>480</td>\n",
       "      <td>433</td>\n",
       "      <td>6650.0</td>\n",
       "      <td>2184.0</td>\n",
       "      <td>2256.0</td>\n",
       "      <td>2023-10-17 00:00:02.600000+00:00</td>\n",
       "      <td>2023-10-17 23:55:04.445000+00:00</td>\n",
       "      <td>42.0</td>\n",
       "      <td>59.0</td>\n",
       "      <td>139.0</td>\n",
       "      <td>109.0</td>\n",
       "      <td>demo2@yopmail.com</td>\n",
       "      <td>Demo one</td>\n",
       "      <td>True</td>\n",
       "    </tr>\n",
       "    <tr>\n",
       "      <th>370</th>\n",
       "      <td>379</td>\n",
       "      <td>480</td>\n",
       "      <td>NaN</td>\n",
       "      <td>10028.0</td>\n",
       "      <td>2184.0</td>\n",
       "      <td>2518.0</td>\n",
       "      <td>2023-10-18 00:00:02.762000+00:00</td>\n",
       "      <td>2023-10-18 23:55:04.710000+00:00</td>\n",
       "      <td>93.0</td>\n",
       "      <td>69.0</td>\n",
       "      <td>156.0</td>\n",
       "      <td>109.0</td>\n",
       "      <td>demo2@yopmail.com</td>\n",
       "      <td>Demo one</td>\n",
       "      <td>True</td>\n",
       "    </tr>\n",
       "    <tr>\n",
       "      <th>374</th>\n",
       "      <td>383</td>\n",
       "      <td>480</td>\n",
       "      <td>60</td>\n",
       "      <td>198.0</td>\n",
       "      <td>2184.0</td>\n",
       "      <td>1098.0</td>\n",
       "      <td>2023-10-19 00:00:02.656000+00:00</td>\n",
       "      <td>2023-10-19 13:30:03.578000+00:00</td>\n",
       "      <td>NaN</td>\n",
       "      <td>64.0</td>\n",
       "      <td>106.0</td>\n",
       "      <td>109.0</td>\n",
       "      <td>demo2@yopmail.com</td>\n",
       "      <td>Demo one</td>\n",
       "      <td>True</td>\n",
       "    </tr>\n",
       "  </tbody>\n",
       "</table>\n",
       "<p>80 rows × 15 columns</p>\n",
       "</div>"
      ],
      "text/plain": [
       "      id  sleep_target sleep_value    steps  calories_target  calories_value  \\\n",
       "4     13           480         403   8416.0           2048.0          1748.0   \n",
       "9     18           480         383   9753.0           2048.0          1848.0   \n",
       "14    23           480         462    273.0           2048.0          1199.0   \n",
       "19    28           480         421   2504.0           2048.0           745.0   \n",
       "24    33           480         421  11681.0           2048.0          2025.0   \n",
       "..   ...           ...         ...      ...              ...             ...   \n",
       "358  367           480         NaN   4842.0           2184.0          1983.0   \n",
       "362  371           480         362   5680.0           2184.0          2122.0   \n",
       "366  375           480         433   6650.0           2184.0          2256.0   \n",
       "370  379           480         NaN  10028.0           2184.0          2518.0   \n",
       "374  383           480          60    198.0           2184.0          1098.0   \n",
       "\n",
       "                           createdAt                        updatedAt  \\\n",
       "4   2023-05-08 17:56:01.406000+00:00 2023-05-09 23:56:02.232000+00:00   \n",
       "9   2023-05-10 00:00:03.442000+00:00 2023-05-11 23:56:04.105000+00:00   \n",
       "14  2023-05-12 00:00:03.483000+00:00 2023-05-13 23:56:03.522000+00:00   \n",
       "19  2023-05-14 00:00:03.142000+00:00 2023-05-15 10:28:03.909000+00:00   \n",
       "24  2023-05-15 12:00:04.019000+00:00 2023-05-15 23:55:04.824000+00:00   \n",
       "..                               ...                              ...   \n",
       "358 2023-10-15 00:00:02.581000+00:00 2023-10-15 23:55:03.092000+00:00   \n",
       "362 2023-10-16 00:00:02.712000+00:00 2023-10-16 23:55:05.059000+00:00   \n",
       "366 2023-10-17 00:00:02.600000+00:00 2023-10-17 23:55:04.445000+00:00   \n",
       "370 2023-10-18 00:00:02.762000+00:00 2023-10-18 23:55:04.710000+00:00   \n",
       "374 2023-10-19 00:00:02.656000+00:00 2023-10-19 13:30:03.578000+00:00   \n",
       "\n",
       "     intensity  min_heart_rate  max_heart_rate  user/id         user/email  \\\n",
       "4          NaN             NaN             NaN      NaN                NaN   \n",
       "9          NaN             NaN             NaN      NaN                NaN   \n",
       "14         NaN             NaN             NaN      NaN                NaN   \n",
       "19         NaN             NaN             NaN      NaN                NaN   \n",
       "24         NaN             NaN             NaN      NaN                NaN   \n",
       "..         ...             ...             ...      ...                ...   \n",
       "358        NaN            75.0           127.0    109.0  demo2@yopmail.com   \n",
       "362       32.0            60.0           141.0    109.0  demo2@yopmail.com   \n",
       "366       42.0            59.0           139.0    109.0  demo2@yopmail.com   \n",
       "370       93.0            69.0           156.0    109.0  demo2@yopmail.com   \n",
       "374        NaN            64.0           106.0    109.0  demo2@yopmail.com   \n",
       "\n",
       "    user/full_name user/disable_survey  \n",
       "4              NaN                 NaN  \n",
       "9              NaN                 NaN  \n",
       "14             NaN                 NaN  \n",
       "19             NaN                 NaN  \n",
       "24             NaN                 NaN  \n",
       "..             ...                 ...  \n",
       "358       Demo one                True  \n",
       "362       Demo one                True  \n",
       "366       Demo one                True  \n",
       "370       Demo one                True  \n",
       "374       Demo one                True  \n",
       "\n",
       "[80 rows x 15 columns]"
      ]
     },
     "execution_count": 21,
     "metadata": {},
     "output_type": "execute_result"
    }
   ],
   "source": [
    "# condensing these groups into single rows: (keeping the last, since that will be the last updated value which may be more useful)\n",
    "\n",
    "fitbit_grouped_df = fitbit_df.drop_duplicates(subset=['steps', 'calories_value'], keep='last')\n",
    "fitbit_grouped_df"
   ]
  },
  {
   "cell_type": "code",
   "execution_count": null,
   "metadata": {
    "ExecuteTime": {
     "end_time": "2023-12-07T11:27:16.361281900Z",
     "start_time": "2023-12-07T11:27:15.988782400Z"
    }
   },
   "outputs": [],
   "source": []
  },
  {
   "cell_type": "markdown",
   "metadata": {},
   "source": [
    "# Data Exploration"
   ]
  },
  {
   "cell_type": "code",
   "execution_count": 22,
   "metadata": {
    "ExecuteTime": {
     "end_time": "2023-12-07T11:27:16.361281900Z",
     "start_time": "2023-12-07T11:27:15.992871Z"
    }
   },
   "outputs": [
    {
     "data": {
      "text/plain": [
       "480    375\n",
       "Name: sleep_target, dtype: int64"
      ]
     },
     "execution_count": 22,
     "metadata": {},
     "output_type": "execute_result"
    }
   ],
   "source": [
    "fitbit_df['sleep_target'].value_counts()"
   ]
  },
  {
   "cell_type": "code",
   "execution_count": 23,
   "metadata": {
    "ExecuteTime": {
     "end_time": "2023-12-07T11:27:16.362283700Z",
     "start_time": "2023-12-07T11:27:15.998952900Z"
    }
   },
   "outputs": [
    {
     "name": "stderr",
     "output_type": "stream",
     "text": [
      "/var/folders/jn/tpkp2dnx08592l_y59z9_f3m0000gn/T/ipykernel_69682/2193033723.py:1: FutureWarning: The default value of numeric_only in DataFrame.corr is deprecated. In a future version, it will default to False. Select only valid columns or specify the value of numeric_only to silence this warning.\n",
      "  corr = fitbit_grouped_df.drop(columns=['user/email', 'user/full_name', 'user/disable_survey']).corr()\n",
      "/Users/rorycoulson/opt/anaconda3/envs/gdp/lib/python3.10/site-packages/pandas/io/formats/style.py:3931: RuntimeWarning: All-NaN slice encountered\n",
      "  smin = np.nanmin(gmap) if vmin is None else vmin\n",
      "/Users/rorycoulson/opt/anaconda3/envs/gdp/lib/python3.10/site-packages/pandas/io/formats/style.py:3932: RuntimeWarning: All-NaN slice encountered\n",
      "  smax = np.nanmax(gmap) if vmax is None else vmax\n"
     ]
    },
    {
     "data": {
      "text/html": [
       "<style type=\"text/css\">\n",
       "#T_e22a8_row0_col0, #T_e22a8_row2_col2, #T_e22a8_row3_col3, #T_e22a8_row4_col4, #T_e22a8_row5_col5, #T_e22a8_row6_col6, #T_e22a8_row7_col7, #T_e22a8_row8_col8 {\n",
       "  background-color: #b40426;\n",
       "  color: #f1f1f1;\n",
       "}\n",
       "#T_e22a8_row0_col1, #T_e22a8_row1_col0, #T_e22a8_row1_col1, #T_e22a8_row1_col2, #T_e22a8_row1_col3, #T_e22a8_row1_col4, #T_e22a8_row1_col5, #T_e22a8_row1_col6, #T_e22a8_row1_col7, #T_e22a8_row1_col8, #T_e22a8_row2_col1, #T_e22a8_row3_col1, #T_e22a8_row3_col6, #T_e22a8_row3_col7, #T_e22a8_row3_col8, #T_e22a8_row4_col1, #T_e22a8_row5_col1, #T_e22a8_row5_col8, #T_e22a8_row6_col1, #T_e22a8_row6_col3, #T_e22a8_row6_col8, #T_e22a8_row7_col1, #T_e22a8_row7_col3, #T_e22a8_row7_col8, #T_e22a8_row8_col1, #T_e22a8_row8_col3, #T_e22a8_row8_col5, #T_e22a8_row8_col6, #T_e22a8_row8_col7 {\n",
       "  background-color: #000000;\n",
       "  color: #f1f1f1;\n",
       "}\n",
       "#T_e22a8_row0_col2 {\n",
       "  background-color: #536edd;\n",
       "  color: #f1f1f1;\n",
       "}\n",
       "#T_e22a8_row0_col3 {\n",
       "  background-color: #f7b89c;\n",
       "  color: #000000;\n",
       "}\n",
       "#T_e22a8_row0_col4 {\n",
       "  background-color: #9dbdff;\n",
       "  color: #000000;\n",
       "}\n",
       "#T_e22a8_row0_col5, #T_e22a8_row2_col8 {\n",
       "  background-color: #7295f4;\n",
       "  color: #f1f1f1;\n",
       "}\n",
       "#T_e22a8_row0_col6, #T_e22a8_row2_col3, #T_e22a8_row4_col8, #T_e22a8_row6_col0, #T_e22a8_row6_col2, #T_e22a8_row6_col5, #T_e22a8_row6_col7, #T_e22a8_row8_col4 {\n",
       "  background-color: #3b4cc0;\n",
       "  color: #f1f1f1;\n",
       "}\n",
       "#T_e22a8_row0_col7 {\n",
       "  background-color: #ecd3c5;\n",
       "  color: #000000;\n",
       "}\n",
       "#T_e22a8_row0_col8 {\n",
       "  background-color: #7396f5;\n",
       "  color: #f1f1f1;\n",
       "}\n",
       "#T_e22a8_row2_col0 {\n",
       "  background-color: #6687ed;\n",
       "  color: #f1f1f1;\n",
       "}\n",
       "#T_e22a8_row2_col4 {\n",
       "  background-color: #e26952;\n",
       "  color: #f1f1f1;\n",
       "}\n",
       "#T_e22a8_row2_col5 {\n",
       "  background-color: #f5a081;\n",
       "  color: #000000;\n",
       "}\n",
       "#T_e22a8_row2_col6, #T_e22a8_row3_col2 {\n",
       "  background-color: #4e68d8;\n",
       "  color: #f1f1f1;\n",
       "}\n",
       "#T_e22a8_row2_col7, #T_e22a8_row7_col2 {\n",
       "  background-color: #b70d28;\n",
       "  color: #f1f1f1;\n",
       "}\n",
       "#T_e22a8_row3_col0 {\n",
       "  background-color: #f7a98b;\n",
       "  color: #000000;\n",
       "}\n",
       "#T_e22a8_row3_col4 {\n",
       "  background-color: #b9d0f9;\n",
       "  color: #000000;\n",
       "}\n",
       "#T_e22a8_row3_col5, #T_e22a8_row8_col0 {\n",
       "  background-color: #688aef;\n",
       "  color: #f1f1f1;\n",
       "}\n",
       "#T_e22a8_row4_col0 {\n",
       "  background-color: #92b4fe;\n",
       "  color: #000000;\n",
       "}\n",
       "#T_e22a8_row4_col2 {\n",
       "  background-color: #e46e56;\n",
       "  color: #f1f1f1;\n",
       "}\n",
       "#T_e22a8_row4_col3 {\n",
       "  background-color: #90b2fe;\n",
       "  color: #000000;\n",
       "}\n",
       "#T_e22a8_row4_col5 {\n",
       "  background-color: #f3c7b1;\n",
       "  color: #000000;\n",
       "}\n",
       "#T_e22a8_row4_col6 {\n",
       "  background-color: #5e7de7;\n",
       "  color: #f1f1f1;\n",
       "}\n",
       "#T_e22a8_row4_col7, #T_e22a8_row7_col4 {\n",
       "  background-color: #bb1b2c;\n",
       "  color: #f1f1f1;\n",
       "}\n",
       "#T_e22a8_row5_col0 {\n",
       "  background-color: #bad0f8;\n",
       "  color: #000000;\n",
       "}\n",
       "#T_e22a8_row5_col2 {\n",
       "  background-color: #f08a6c;\n",
       "  color: #f1f1f1;\n",
       "}\n",
       "#T_e22a8_row5_col3 {\n",
       "  background-color: #94b6ff;\n",
       "  color: #000000;\n",
       "}\n",
       "#T_e22a8_row5_col4 {\n",
       "  background-color: #f6a586;\n",
       "  color: #000000;\n",
       "}\n",
       "#T_e22a8_row5_col6 {\n",
       "  background-color: #8db0fe;\n",
       "  color: #000000;\n",
       "}\n",
       "#T_e22a8_row5_col7 {\n",
       "  background-color: #c53334;\n",
       "  color: #f1f1f1;\n",
       "}\n",
       "#T_e22a8_row6_col4 {\n",
       "  background-color: #6a8bef;\n",
       "  color: #f1f1f1;\n",
       "}\n",
       "#T_e22a8_row7_col0 {\n",
       "  background-color: #efcfbf;\n",
       "  color: #000000;\n",
       "}\n",
       "#T_e22a8_row7_col5 {\n",
       "  background-color: #ca3b37;\n",
       "  color: #f1f1f1;\n",
       "}\n",
       "#T_e22a8_row7_col6 {\n",
       "  background-color: #4358cb;\n",
       "  color: #f1f1f1;\n",
       "}\n",
       "#T_e22a8_row8_col2 {\n",
       "  background-color: #5470de;\n",
       "  color: #f1f1f1;\n",
       "}\n",
       "</style>\n",
       "<table id=\"T_e22a8\">\n",
       "  <thead>\n",
       "    <tr>\n",
       "      <th class=\"blank level0\" >&nbsp;</th>\n",
       "      <th id=\"T_e22a8_level0_col0\" class=\"col_heading level0 col0\" >id</th>\n",
       "      <th id=\"T_e22a8_level0_col1\" class=\"col_heading level0 col1\" >sleep_target</th>\n",
       "      <th id=\"T_e22a8_level0_col2\" class=\"col_heading level0 col2\" >steps</th>\n",
       "      <th id=\"T_e22a8_level0_col3\" class=\"col_heading level0 col3\" >calories_target</th>\n",
       "      <th id=\"T_e22a8_level0_col4\" class=\"col_heading level0 col4\" >calories_value</th>\n",
       "      <th id=\"T_e22a8_level0_col5\" class=\"col_heading level0 col5\" >intensity</th>\n",
       "      <th id=\"T_e22a8_level0_col6\" class=\"col_heading level0 col6\" >min_heart_rate</th>\n",
       "      <th id=\"T_e22a8_level0_col7\" class=\"col_heading level0 col7\" >max_heart_rate</th>\n",
       "      <th id=\"T_e22a8_level0_col8\" class=\"col_heading level0 col8\" >user/id</th>\n",
       "    </tr>\n",
       "  </thead>\n",
       "  <tbody>\n",
       "    <tr>\n",
       "      <th id=\"T_e22a8_level0_row0\" class=\"row_heading level0 row0\" >id</th>\n",
       "      <td id=\"T_e22a8_row0_col0\" class=\"data row0 col0\" >1.000000</td>\n",
       "      <td id=\"T_e22a8_row0_col1\" class=\"data row0 col1\" >nan</td>\n",
       "      <td id=\"T_e22a8_row0_col2\" class=\"data row0 col2\" >-0.341574</td>\n",
       "      <td id=\"T_e22a8_row0_col3\" class=\"data row0 col3\" >0.546182</td>\n",
       "      <td id=\"T_e22a8_row0_col4\" class=\"data row0 col4\" >-0.143672</td>\n",
       "      <td id=\"T_e22a8_row0_col5\" class=\"data row0 col5\" >0.036472</td>\n",
       "      <td id=\"T_e22a8_row0_col6\" class=\"data row0 col6\" >-0.556711</td>\n",
       "      <td id=\"T_e22a8_row0_col7\" class=\"data row0 col7\" >0.343621</td>\n",
       "      <td id=\"T_e22a8_row0_col8\" class=\"data row0 col8\" >-0.330579</td>\n",
       "    </tr>\n",
       "    <tr>\n",
       "      <th id=\"T_e22a8_level0_row1\" class=\"row_heading level0 row1\" >sleep_target</th>\n",
       "      <td id=\"T_e22a8_row1_col0\" class=\"data row1 col0\" >nan</td>\n",
       "      <td id=\"T_e22a8_row1_col1\" class=\"data row1 col1\" >nan</td>\n",
       "      <td id=\"T_e22a8_row1_col2\" class=\"data row1 col2\" >nan</td>\n",
       "      <td id=\"T_e22a8_row1_col3\" class=\"data row1 col3\" >nan</td>\n",
       "      <td id=\"T_e22a8_row1_col4\" class=\"data row1 col4\" >nan</td>\n",
       "      <td id=\"T_e22a8_row1_col5\" class=\"data row1 col5\" >nan</td>\n",
       "      <td id=\"T_e22a8_row1_col6\" class=\"data row1 col6\" >nan</td>\n",
       "      <td id=\"T_e22a8_row1_col7\" class=\"data row1 col7\" >nan</td>\n",
       "      <td id=\"T_e22a8_row1_col8\" class=\"data row1 col8\" >nan</td>\n",
       "    </tr>\n",
       "    <tr>\n",
       "      <th id=\"T_e22a8_level0_row2\" class=\"row_heading level0 row2\" >steps</th>\n",
       "      <td id=\"T_e22a8_row2_col0\" class=\"data row2 col0\" >-0.341574</td>\n",
       "      <td id=\"T_e22a8_row2_col1\" class=\"data row2 col1\" >nan</td>\n",
       "      <td id=\"T_e22a8_row2_col2\" class=\"data row2 col2\" >1.000000</td>\n",
       "      <td id=\"T_e22a8_row2_col3\" class=\"data row2 col3\" >-0.365820</td>\n",
       "      <td id=\"T_e22a8_row2_col4\" class=\"data row2 col4\" >0.772451</td>\n",
       "      <td id=\"T_e22a8_row2_col5\" class=\"data row2 col5\" >0.687185</td>\n",
       "      <td id=\"T_e22a8_row2_col6\" class=\"data row2 col6\" >-0.457803</td>\n",
       "      <td id=\"T_e22a8_row2_col7\" class=\"data row2 col7\" >0.987032</td>\n",
       "      <td id=\"T_e22a8_row2_col8\" class=\"data row2 col8\" >-0.335131</td>\n",
       "    </tr>\n",
       "    <tr>\n",
       "      <th id=\"T_e22a8_level0_row3\" class=\"row_heading level0 row3\" >calories_target</th>\n",
       "      <td id=\"T_e22a8_row3_col0\" class=\"data row3 col0\" >0.546182</td>\n",
       "      <td id=\"T_e22a8_row3_col1\" class=\"data row3 col1\" >nan</td>\n",
       "      <td id=\"T_e22a8_row3_col2\" class=\"data row3 col2\" >-0.365820</td>\n",
       "      <td id=\"T_e22a8_row3_col3\" class=\"data row3 col3\" >1.000000</td>\n",
       "      <td id=\"T_e22a8_row3_col4\" class=\"data row3 col4\" >-0.009144</td>\n",
       "      <td id=\"T_e22a8_row3_col5\" class=\"data row3 col5\" >0.004156</td>\n",
       "      <td id=\"T_e22a8_row3_col6\" class=\"data row3 col6\" >nan</td>\n",
       "      <td id=\"T_e22a8_row3_col7\" class=\"data row3 col7\" >nan</td>\n",
       "      <td id=\"T_e22a8_row3_col8\" class=\"data row3 col8\" >nan</td>\n",
       "    </tr>\n",
       "    <tr>\n",
       "      <th id=\"T_e22a8_level0_row4\" class=\"row_heading level0 row4\" >calories_value</th>\n",
       "      <td id=\"T_e22a8_row4_col0\" class=\"data row4 col0\" >-0.143672</td>\n",
       "      <td id=\"T_e22a8_row4_col1\" class=\"data row4 col1\" >nan</td>\n",
       "      <td id=\"T_e22a8_row4_col2\" class=\"data row4 col2\" >0.772451</td>\n",
       "      <td id=\"T_e22a8_row4_col3\" class=\"data row4 col3\" >-0.009144</td>\n",
       "      <td id=\"T_e22a8_row4_col4\" class=\"data row4 col4\" >1.000000</td>\n",
       "      <td id=\"T_e22a8_row4_col5\" class=\"data row4 col5\" >0.549825</td>\n",
       "      <td id=\"T_e22a8_row4_col6\" class=\"data row4 col6\" >-0.374424</td>\n",
       "      <td id=\"T_e22a8_row4_col7\" class=\"data row4 col7\" >0.966341</td>\n",
       "      <td id=\"T_e22a8_row4_col8\" class=\"data row4 col8\" >-0.618114</td>\n",
       "    </tr>\n",
       "    <tr>\n",
       "      <th id=\"T_e22a8_level0_row5\" class=\"row_heading level0 row5\" >intensity</th>\n",
       "      <td id=\"T_e22a8_row5_col0\" class=\"data row5 col0\" >0.036472</td>\n",
       "      <td id=\"T_e22a8_row5_col1\" class=\"data row5 col1\" >nan</td>\n",
       "      <td id=\"T_e22a8_row5_col2\" class=\"data row5 col2\" >0.687185</td>\n",
       "      <td id=\"T_e22a8_row5_col3\" class=\"data row5 col3\" >0.004156</td>\n",
       "      <td id=\"T_e22a8_row5_col4\" class=\"data row5 col4\" >0.549825</td>\n",
       "      <td id=\"T_e22a8_row5_col5\" class=\"data row5 col5\" >1.000000</td>\n",
       "      <td id=\"T_e22a8_row5_col6\" class=\"data row5 col6\" >-0.164482</td>\n",
       "      <td id=\"T_e22a8_row5_col7\" class=\"data row5 col7\" >0.928043</td>\n",
       "      <td id=\"T_e22a8_row5_col8\" class=\"data row5 col8\" >nan</td>\n",
       "    </tr>\n",
       "    <tr>\n",
       "      <th id=\"T_e22a8_level0_row6\" class=\"row_heading level0 row6\" >min_heart_rate</th>\n",
       "      <td id=\"T_e22a8_row6_col0\" class=\"data row6 col0\" >-0.556711</td>\n",
       "      <td id=\"T_e22a8_row6_col1\" class=\"data row6 col1\" >nan</td>\n",
       "      <td id=\"T_e22a8_row6_col2\" class=\"data row6 col2\" >-0.457803</td>\n",
       "      <td id=\"T_e22a8_row6_col3\" class=\"data row6 col3\" >nan</td>\n",
       "      <td id=\"T_e22a8_row6_col4\" class=\"data row6 col4\" >-0.374424</td>\n",
       "      <td id=\"T_e22a8_row6_col5\" class=\"data row6 col5\" >-0.164482</td>\n",
       "      <td id=\"T_e22a8_row6_col6\" class=\"data row6 col6\" >1.000000</td>\n",
       "      <td id=\"T_e22a8_row6_col7\" class=\"data row6 col7\" >-0.508403</td>\n",
       "      <td id=\"T_e22a8_row6_col8\" class=\"data row6 col8\" >nan</td>\n",
       "    </tr>\n",
       "    <tr>\n",
       "      <th id=\"T_e22a8_level0_row7\" class=\"row_heading level0 row7\" >max_heart_rate</th>\n",
       "      <td id=\"T_e22a8_row7_col0\" class=\"data row7 col0\" >0.343621</td>\n",
       "      <td id=\"T_e22a8_row7_col1\" class=\"data row7 col1\" >nan</td>\n",
       "      <td id=\"T_e22a8_row7_col2\" class=\"data row7 col2\" >0.987032</td>\n",
       "      <td id=\"T_e22a8_row7_col3\" class=\"data row7 col3\" >nan</td>\n",
       "      <td id=\"T_e22a8_row7_col4\" class=\"data row7 col4\" >0.966341</td>\n",
       "      <td id=\"T_e22a8_row7_col5\" class=\"data row7 col5\" >0.928043</td>\n",
       "      <td id=\"T_e22a8_row7_col6\" class=\"data row7 col6\" >-0.508403</td>\n",
       "      <td id=\"T_e22a8_row7_col7\" class=\"data row7 col7\" >1.000000</td>\n",
       "      <td id=\"T_e22a8_row7_col8\" class=\"data row7 col8\" >nan</td>\n",
       "    </tr>\n",
       "    <tr>\n",
       "      <th id=\"T_e22a8_level0_row8\" class=\"row_heading level0 row8\" >user/id</th>\n",
       "      <td id=\"T_e22a8_row8_col0\" class=\"data row8 col0\" >-0.330579</td>\n",
       "      <td id=\"T_e22a8_row8_col1\" class=\"data row8 col1\" >nan</td>\n",
       "      <td id=\"T_e22a8_row8_col2\" class=\"data row8 col2\" >-0.335131</td>\n",
       "      <td id=\"T_e22a8_row8_col3\" class=\"data row8 col3\" >nan</td>\n",
       "      <td id=\"T_e22a8_row8_col4\" class=\"data row8 col4\" >-0.618114</td>\n",
       "      <td id=\"T_e22a8_row8_col5\" class=\"data row8 col5\" >nan</td>\n",
       "      <td id=\"T_e22a8_row8_col6\" class=\"data row8 col6\" >nan</td>\n",
       "      <td id=\"T_e22a8_row8_col7\" class=\"data row8 col7\" >nan</td>\n",
       "      <td id=\"T_e22a8_row8_col8\" class=\"data row8 col8\" >1.000000</td>\n",
       "    </tr>\n",
       "  </tbody>\n",
       "</table>\n"
      ],
      "text/plain": [
       "<pandas.io.formats.style.Styler at 0x7fed21ff76a0>"
      ]
     },
     "execution_count": 23,
     "metadata": {},
     "output_type": "execute_result"
    }
   ],
   "source": [
    "corr = fitbit_grouped_df.drop(columns=['user/email', 'user/full_name', 'user/disable_survey']).corr()\n",
    "corr.style.background_gradient(cmap='coolwarm')"
   ]
  },
  {
   "cell_type": "code",
   "execution_count": 24,
   "metadata": {
    "ExecuteTime": {
     "end_time": "2023-12-07T11:27:16.524140300Z",
     "start_time": "2023-12-07T11:27:16.021157500Z"
    }
   },
   "outputs": [
    {
     "data": {
      "image/png": "[encoded data removed]",
      "text/plain": [
       "<Figure size 640x480 with 1 Axes>"
      ]
     },
     "metadata": {},
     "output_type": "display_data"
    }
   ],
   "source": [
    "fitbit_grouped_df.copy().sort_values('steps').plot(x='steps', y=['calories_value', 'intensity'])\n",
    "# plt.title('')\n",
    "plt.ylabel('Calories')\n",
    "plt.show()"
   ]
  },
  {
   "cell_type": "code",
   "execution_count": 25,
   "metadata": {
    "ExecuteTime": {
     "end_time": "2023-12-07T11:27:16.720787Z",
     "start_time": "2023-12-07T11:27:16.228863600Z"
    }
   },
   "outputs": [
    {
     "name": "stderr",
     "output_type": "stream",
     "text": [
      "/var/folders/jn/tpkp2dnx08592l_y59z9_f3m0000gn/T/ipykernel_69682/2768316718.py:3: FutureWarning: In a future version of pandas, a length 1 tuple will be returned when iterating over a groupby with a grouper equal to a list of length 1. Don't supply a list with a single grouper to avoid this warning.\n",
      "  for (key, group), color in zip(fitbit_grouped_df.groupby(['user/id']), colors):\n"
     ]
    },
    {
     "data": {
      "image/png": "[encoded data removed]",
      "text/plain": [
       "<Figure size 1500x500 with 1 Axes>"
      ]
     },
     "metadata": {},
     "output_type": "display_data"
    }
   ],
   "source": [
    "fig, ax = plt.subplots()\n",
    "colors = cm.rainbow(np.linspace(0, 1, len(fitbit_grouped_df['user/id'].unique())))\n",
    "for (key, group), color in zip(fitbit_grouped_df.groupby(['user/id']), colors):\n",
    "    ax = group.plot(ax=ax, kind='scatter', x='steps', y='calories_value', label=key, c=np.array([color]), figsize=(15, 5))\n",
    "    # ax.get_legend().remove()\n",
    "plt.title('Steps vs Calories per Id')\n",
    "plt.show()"
   ]
  },
  {
   "cell_type": "code",
   "execution_count": 26,
   "metadata": {
    "ExecuteTime": {
     "end_time": "2023-12-07T11:27:16.722046400Z",
     "start_time": "2023-12-07T11:27:16.491424100Z"
    }
   },
   "outputs": [],
   "source": [
    "# ^displays the lack of user/id specific data"
   ]
  },
  {
   "cell_type": "code",
   "execution_count": null,
   "metadata": {
    "ExecuteTime": {
     "end_time": "2023-12-07T11:27:16.722046400Z",
     "start_time": "2023-12-07T11:27:16.495015400Z"
    }
   },
   "outputs": [],
   "source": []
  },
  {
   "cell_type": "markdown",
   "metadata": {},
   "source": [
    "# Save cleaned and preprocessed datasets"
   ]
  },
  {
   "cell_type": "code",
   "execution_count": 27,
   "metadata": {
    "ExecuteTime": {
     "end_time": "2023-12-07T11:27:16.722046400Z",
     "start_time": "2023-12-07T11:27:16.498013400Z"
    }
   },
   "outputs": [],
   "source": [
    "fitbit_df.to_csv('../../data/client_data/cleaned/fitbit/cleaned_fitbit_full.csv', index=False)\n",
    "fitbit_grouped_df.to_csv('../../data/client_data/cleaned/fitbit/cleaned_fitbit_grouped_dups.csv', index=False)"
   ]
  },
  {
   "cell_type": "code",
   "execution_count": 28,
   "metadata": {
    "ExecuteTime": {
     "end_time": "2023-12-07T11:27:16.722046400Z",
     "start_time": "2023-12-07T11:27:16.509671500Z"
    }
   },
   "outputs": [
    {
     "data": {
      "text/plain": [
       "count     42.000000\n",
       "mean      39.190476\n",
       "std       36.662760\n",
       "min       10.000000\n",
       "25%       13.000000\n",
       "50%       29.500000\n",
       "75%       44.000000\n",
       "max      188.000000\n",
       "Name: intensity, dtype: float64"
      ]
     },
     "execution_count": 28,
     "metadata": {},
     "output_type": "execute_result"
    }
   ],
   "source": [
    "fitbit_grouped_df['intensity'].describe()"
   ]
  },
  {
   "cell_type": "code",
   "execution_count": null,
   "metadata": {
    "ExecuteTime": {
     "end_time": "2023-12-07T11:27:16.723042400Z",
     "start_time": "2023-12-07T11:27:16.516477300Z"
    }
   },
   "outputs": [],
   "source": []
  }
 ],
 "metadata": {
  "kernelspec": {
   "display_name": "Python 3.11.5 ('gdp')",
   "language": "python",
   "name": "python3"
  },
  "language_info": {
   "codemirror_mode": {
    "name": "ipython",
    "version": 3
   },
   "file_extension": ".py",
   "mimetype": "text/x-python",
   "name": "python",
   "nbconvert_exporter": "python",
   "pygments_lexer": "ipython3",
   "version": "3.10.13"
  },
  "orig_nbformat": 4,
  "vscode": {
   "interpreter": {
    "hash": "6882dc06301760b36bbcb4d51379d264c324440714a2847c29bfa26d42344021"
   }
  }
 },
 "nbformat": 4,
 "nbformat_minor": 2
}
